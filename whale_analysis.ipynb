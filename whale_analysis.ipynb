{
 "cells": [
  {
   "cell_type": "markdown",
   "metadata": {},
   "source": [
    " #  A Whale off the Port(folio)\n",
    " ---\n",
    "\n",
    " In this assignment, you'll get to use what you've learned this week to evaluate the performance among various algorithmic, hedge, and mutual fund portfolios and compare them against the S&P 500 Index."
   ]
  },
  {
   "cell_type": "code",
   "execution_count": 117,
   "metadata": {},
   "outputs": [],
   "source": [
    "# Initial imports\n",
    "import pandas as pd\n",
    "import numpy as np\n",
    "import datetime as dt\n",
    "from pathlib import Path\n",
    "import seaborn as sns\n",
    "\n",
    "%matplotlib inline"
   ]
  },
  {
   "cell_type": "markdown",
   "metadata": {},
   "source": [
    "# Data Cleaning\n",
    "\n",
    "In this section, you will need to read the CSV files into DataFrames and perform any necessary data cleaning steps. After cleaning, combine all DataFrames into a single DataFrame.\n",
    "\n",
    "Files:\n",
    "\n",
    "* `whale_returns.csv`: Contains returns of some famous \"whale\" investors' portfolios.\n",
    "\n",
    "* `algo_returns.csv`: Contains returns from the in-house trading algorithms from Harold's company.\n",
    "\n",
    "* `sp500_history.csv`: Contains historical closing prices of the S&P 500 Index."
   ]
  },
  {
   "cell_type": "markdown",
   "metadata": {},
   "source": [
    "## Whale Returns\n",
    "\n",
    "Read the Whale Portfolio daily returns and clean the data"
   ]
  },
  {
   "cell_type": "code",
   "execution_count": 118,
   "metadata": {},
   "outputs": [
    {
     "data": {
      "text/html": [
       "<div>\n",
       "<style scoped>\n",
       "    .dataframe tbody tr th:only-of-type {\n",
       "        vertical-align: middle;\n",
       "    }\n",
       "\n",
       "    .dataframe tbody tr th {\n",
       "        vertical-align: top;\n",
       "    }\n",
       "\n",
       "    .dataframe thead th {\n",
       "        text-align: right;\n",
       "    }\n",
       "</style>\n",
       "<table border=\"1\" class=\"dataframe\">\n",
       "  <thead>\n",
       "    <tr style=\"text-align: right;\">\n",
       "      <th></th>\n",
       "      <th>Date</th>\n",
       "      <th>SOROS FUND MANAGEMENT LLC</th>\n",
       "      <th>PAULSON &amp; CO.INC.</th>\n",
       "      <th>TIGER GLOBAL MANAGEMENT LLC</th>\n",
       "      <th>BERKSHIRE HATHAWAY INC</th>\n",
       "    </tr>\n",
       "  </thead>\n",
       "  <tbody>\n",
       "    <tr>\n",
       "      <th>0</th>\n",
       "      <td>2015-03-02</td>\n",
       "      <td>NaN</td>\n",
       "      <td>NaN</td>\n",
       "      <td>NaN</td>\n",
       "      <td>NaN</td>\n",
       "    </tr>\n",
       "    <tr>\n",
       "      <th>1</th>\n",
       "      <td>2015-03-03</td>\n",
       "      <td>-0.001266</td>\n",
       "      <td>-0.004981</td>\n",
       "      <td>-0.000496</td>\n",
       "      <td>-0.006569</td>\n",
       "    </tr>\n",
       "    <tr>\n",
       "      <th>2</th>\n",
       "      <td>2015-03-04</td>\n",
       "      <td>0.002230</td>\n",
       "      <td>0.003241</td>\n",
       "      <td>-0.002534</td>\n",
       "      <td>0.004213</td>\n",
       "    </tr>\n",
       "    <tr>\n",
       "      <th>3</th>\n",
       "      <td>2015-03-05</td>\n",
       "      <td>0.004016</td>\n",
       "      <td>0.004076</td>\n",
       "      <td>0.002355</td>\n",
       "      <td>0.006726</td>\n",
       "    </tr>\n",
       "    <tr>\n",
       "      <th>4</th>\n",
       "      <td>2015-03-06</td>\n",
       "      <td>-0.007905</td>\n",
       "      <td>-0.003574</td>\n",
       "      <td>-0.008481</td>\n",
       "      <td>-0.013098</td>\n",
       "    </tr>\n",
       "  </tbody>\n",
       "</table>\n",
       "</div>"
      ],
      "text/plain": [
       "         Date  SOROS FUND MANAGEMENT LLC  PAULSON & CO.INC.   \\\n",
       "0  2015-03-02                        NaN                 NaN   \n",
       "1  2015-03-03                  -0.001266           -0.004981   \n",
       "2  2015-03-04                   0.002230            0.003241   \n",
       "3  2015-03-05                   0.004016            0.004076   \n",
       "4  2015-03-06                  -0.007905           -0.003574   \n",
       "\n",
       "   TIGER GLOBAL MANAGEMENT LLC  BERKSHIRE HATHAWAY INC  \n",
       "0                          NaN                     NaN  \n",
       "1                    -0.000496               -0.006569  \n",
       "2                    -0.002534                0.004213  \n",
       "3                     0.002355                0.006726  \n",
       "4                    -0.008481               -0.013098  "
      ]
     },
     "execution_count": 118,
     "metadata": {},
     "output_type": "execute_result"
    }
   ],
   "source": [
    "# Reading whale returns\n",
    "whale_returns_csv_path = Path(\"whale_returns.csv\")\n",
    "whale_returns_df = pd.read_csv(whale_returns_csv_path)\n",
    "whale_returns_df.head()"
   ]
  },
  {
   "cell_type": "code",
   "execution_count": 119,
   "metadata": {},
   "outputs": [
    {
     "data": {
      "text/plain": [
       "0       4\n",
       "1       0\n",
       "2       0\n",
       "3       0\n",
       "4       0\n",
       "       ..\n",
       "1055    0\n",
       "1056    0\n",
       "1057    0\n",
       "1058    0\n",
       "1059    0\n",
       "Length: 1060, dtype: int64"
      ]
     },
     "execution_count": 119,
     "metadata": {},
     "output_type": "execute_result"
    }
   ],
   "source": [
    "# Count nulls\n",
    "whale_returns_df.isnull().sum(axis = 1)"
   ]
  },
  {
   "cell_type": "code",
   "execution_count": 120,
   "metadata": {},
   "outputs": [],
   "source": [
    "# Drop nulls\n",
    "whale_returns_df.dropna()\n",
    "# Correct columns to date time for whale_returns\n",
    "whale_returns_df.set_index(pd.to_datetime(whale_returns_df['Date'], infer_datetime_format=True), inplace=True)\n",
    "whale_returns_df.drop(columns=['Date'], inplace=True)"
   ]
  },
  {
   "cell_type": "markdown",
   "metadata": {},
   "source": [
    "## Algorithmic Daily Returns\n",
    "\n",
    "Read the algorithmic daily returns and clean the data"
   ]
  },
  {
   "cell_type": "code",
   "execution_count": 121,
   "metadata": {},
   "outputs": [],
   "source": [
    "# Reading algorithmic returns\n",
    "algo_returns_csv_path = Path(\"algo_returns.csv\")\n",
    "algo_returns_df = pd.read_csv(algo_returns_csv_path)"
   ]
  },
  {
   "cell_type": "code",
   "execution_count": 122,
   "metadata": {},
   "outputs": [
    {
     "data": {
      "text/plain": [
       "0       1\n",
       "1       1\n",
       "2       1\n",
       "3       1\n",
       "4       1\n",
       "       ..\n",
       "1236    0\n",
       "1237    0\n",
       "1238    0\n",
       "1239    0\n",
       "1240    0\n",
       "Length: 1241, dtype: int64"
      ]
     },
     "execution_count": 122,
     "metadata": {},
     "output_type": "execute_result"
    }
   ],
   "source": [
    "# Count nulls\n",
    "algo_returns_df.isnull().sum(axis = 1)"
   ]
  },
  {
   "cell_type": "code",
   "execution_count": 123,
   "metadata": {},
   "outputs": [],
   "source": [
    "# Drop nulls\n",
    "algo_returns_df.dropna()\n",
    "algo_returns_df.set_index(pd.to_datetime(algo_returns_df['Date'], infer_datetime_format=True), inplace=True)\n",
    "algo_returns_df.drop(columns=['Date'], inplace=True)"
   ]
  },
  {
   "cell_type": "markdown",
   "metadata": {},
   "source": [
    "## S&P 500 Returns\n",
    "\n",
    "Read the S&P 500 historic closing prices and create a new daily returns DataFrame from the data. "
   ]
  },
  {
   "cell_type": "code",
   "execution_count": 124,
   "metadata": {},
   "outputs": [],
   "source": [
    "# Reading S&P 500 Closing Prices\n",
    "sp500_history_csv_path = Path(\"sp500_history.csv\")\n",
    "sp500_history_df = pd.read_csv(sp500_history_csv_path)"
   ]
  },
  {
   "cell_type": "code",
   "execution_count": 125,
   "metadata": {},
   "outputs": [
    {
     "data": {
      "text/plain": [
       "Date     object\n",
       "Close    object\n",
       "dtype: object"
      ]
     },
     "execution_count": 125,
     "metadata": {},
     "output_type": "execute_result"
    }
   ],
   "source": [
    "# Check Data Types\n",
    "sp500_history_df.dtypes"
   ]
  },
  {
   "cell_type": "code",
   "execution_count": 126,
   "metadata": {},
   "outputs": [
    {
     "data": {
      "text/html": [
       "<div>\n",
       "<style scoped>\n",
       "    .dataframe tbody tr th:only-of-type {\n",
       "        vertical-align: middle;\n",
       "    }\n",
       "\n",
       "    .dataframe tbody tr th {\n",
       "        vertical-align: top;\n",
       "    }\n",
       "\n",
       "    .dataframe thead th {\n",
       "        text-align: right;\n",
       "    }\n",
       "</style>\n",
       "<table border=\"1\" class=\"dataframe\">\n",
       "  <thead>\n",
       "    <tr style=\"text-align: right;\">\n",
       "      <th></th>\n",
       "      <th>Close</th>\n",
       "    </tr>\n",
       "    <tr>\n",
       "      <th>Date</th>\n",
       "      <th></th>\n",
       "    </tr>\n",
       "  </thead>\n",
       "  <tbody>\n",
       "    <tr>\n",
       "      <th>2019-04-23</th>\n",
       "      <td>$2933.68</td>\n",
       "    </tr>\n",
       "    <tr>\n",
       "      <th>2019-04-22</th>\n",
       "      <td>$2907.97</td>\n",
       "    </tr>\n",
       "    <tr>\n",
       "      <th>2019-04-18</th>\n",
       "      <td>$2905.03</td>\n",
       "    </tr>\n",
       "    <tr>\n",
       "      <th>2019-04-17</th>\n",
       "      <td>$2900.45</td>\n",
       "    </tr>\n",
       "    <tr>\n",
       "      <th>2019-04-16</th>\n",
       "      <td>$2907.06</td>\n",
       "    </tr>\n",
       "    <tr>\n",
       "      <th>...</th>\n",
       "      <td>...</td>\n",
       "    </tr>\n",
       "    <tr>\n",
       "      <th>2012-10-05</th>\n",
       "      <td>$1460.93</td>\n",
       "    </tr>\n",
       "    <tr>\n",
       "      <th>2012-10-04</th>\n",
       "      <td>$1461.40</td>\n",
       "    </tr>\n",
       "    <tr>\n",
       "      <th>2012-10-03</th>\n",
       "      <td>$1450.99</td>\n",
       "    </tr>\n",
       "    <tr>\n",
       "      <th>2012-10-02</th>\n",
       "      <td>$1445.75</td>\n",
       "    </tr>\n",
       "    <tr>\n",
       "      <th>2012-10-01</th>\n",
       "      <td>$1444.49</td>\n",
       "    </tr>\n",
       "  </tbody>\n",
       "</table>\n",
       "<p>1649 rows × 1 columns</p>\n",
       "</div>"
      ],
      "text/plain": [
       "               Close\n",
       "Date                \n",
       "2019-04-23  $2933.68\n",
       "2019-04-22  $2907.97\n",
       "2019-04-18  $2905.03\n",
       "2019-04-17  $2900.45\n",
       "2019-04-16  $2907.06\n",
       "...              ...\n",
       "2012-10-05  $1460.93\n",
       "2012-10-04  $1461.40\n",
       "2012-10-03  $1450.99\n",
       "2012-10-02  $1445.75\n",
       "2012-10-01  $1444.49\n",
       "\n",
       "[1649 rows x 1 columns]"
      ]
     },
     "execution_count": 126,
     "metadata": {},
     "output_type": "execute_result"
    }
   ],
   "source": [
    "# Fix Data Types\n",
    "sp500_history_df.columns = ['Date', 'Close']\n",
    "sp500_history_df.set_index(pd.to_datetime(sp500_history_df['Date'], infer_datetime_format=True), inplace=True)\n",
    "sp500_history_df.drop(columns=['Date'], inplace=True)\n",
    "sp500_history_df"
   ]
  },
  {
   "cell_type": "code",
   "execution_count": 127,
   "metadata": {},
   "outputs": [
    {
     "name": "stdout",
     "output_type": "stream",
     "text": [
      "<class 'pandas.core.frame.DataFrame'>\n",
      "DatetimeIndex: 1649 entries, 2019-04-23 to 2012-10-01\n",
      "Data columns (total 1 columns):\n",
      " #   Column  Non-Null Count  Dtype  \n",
      "---  ------  --------------  -----  \n",
      " 0   Close   1649 non-null   float64\n",
      "dtypes: float64(1)\n",
      "memory usage: 25.8 KB\n"
     ]
    }
   ],
   "source": [
    "# changing Close datatype to float64 and removing dollar sign\n",
    "sp500_history_df['Close'] = sp500_history_df['Close'].str.replace('$', '', regex=True).astype(float)\n",
    "sp500_history_df.info()\n"
   ]
  },
  {
   "cell_type": "code",
   "execution_count": 128,
   "metadata": {},
   "outputs": [
    {
     "data": {
      "text/plain": [
       "Close    0.008135\n",
       "dtype: float64"
      ]
     },
     "execution_count": 128,
     "metadata": {},
     "output_type": "execute_result"
    }
   ],
   "source": [
    "# Calculate Daily Returns\n",
    "# Drop nulls\n",
    "sp500_history_df.dropna()\n",
    "daily_returns = sp500_history_df.pct_change().dropna()\n",
    "daily_returns.std()"
   ]
  },
  {
   "cell_type": "code",
   "execution_count": null,
   "metadata": {},
   "outputs": [],
   "source": []
  },
  {
   "cell_type": "code",
   "execution_count": 129,
   "metadata": {},
   "outputs": [
    {
     "data": {
      "text/html": [
       "<div>\n",
       "<style scoped>\n",
       "    .dataframe tbody tr th:only-of-type {\n",
       "        vertical-align: middle;\n",
       "    }\n",
       "\n",
       "    .dataframe tbody tr th {\n",
       "        vertical-align: top;\n",
       "    }\n",
       "\n",
       "    .dataframe thead th {\n",
       "        text-align: right;\n",
       "    }\n",
       "</style>\n",
       "<table border=\"1\" class=\"dataframe\">\n",
       "  <thead>\n",
       "    <tr style=\"text-align: right;\">\n",
       "      <th></th>\n",
       "      <th>SP500</th>\n",
       "    </tr>\n",
       "    <tr>\n",
       "      <th>Date</th>\n",
       "      <th></th>\n",
       "    </tr>\n",
       "  </thead>\n",
       "  <tbody>\n",
       "    <tr>\n",
       "      <th>2019-04-22</th>\n",
       "      <td>-0.008764</td>\n",
       "    </tr>\n",
       "    <tr>\n",
       "      <th>2019-04-18</th>\n",
       "      <td>-0.001011</td>\n",
       "    </tr>\n",
       "    <tr>\n",
       "      <th>2019-04-17</th>\n",
       "      <td>-0.001577</td>\n",
       "    </tr>\n",
       "    <tr>\n",
       "      <th>2019-04-16</th>\n",
       "      <td>0.002279</td>\n",
       "    </tr>\n",
       "    <tr>\n",
       "      <th>2019-04-15</th>\n",
       "      <td>-0.000509</td>\n",
       "    </tr>\n",
       "  </tbody>\n",
       "</table>\n",
       "</div>"
      ],
      "text/plain": [
       "               SP500\n",
       "Date                \n",
       "2019-04-22 -0.008764\n",
       "2019-04-18 -0.001011\n",
       "2019-04-17 -0.001577\n",
       "2019-04-16  0.002279\n",
       "2019-04-15 -0.000509"
      ]
     },
     "execution_count": 129,
     "metadata": {},
     "output_type": "execute_result"
    }
   ],
   "source": [
    "# Rename `Close` Column to be specific to this portfolio.\n",
    "daily_returns.rename(columns={'Close': 'SP500'}, inplace=True)\n",
    "daily_returns.head()"
   ]
  },
  {
   "cell_type": "markdown",
   "metadata": {},
   "source": [
    "## Combine Whale, Algorithmic, and S&P 500 Returns"
   ]
  },
  {
   "cell_type": "code",
   "execution_count": 130,
   "metadata": {},
   "outputs": [],
   "source": [
    "# Join Whale Returns, Algorithmic Returns, and the S&P 500 Returns into a single DataFrame with columns for each portfolio's returns.\n",
    "combined_returns_df = pd.concat([whale_returns_df, algo_returns_df], axis=\"columns\")\n",
    "combined_returns_df.dropna()\n",
    "combined_returns_df.std()\n",
    "combined_returns_df.index = combined_returns_df.index.date"
   ]
  },
  {
   "cell_type": "markdown",
   "metadata": {},
   "source": [
    "---"
   ]
  },
  {
   "cell_type": "markdown",
   "metadata": {},
   "source": [
    "# Conduct Quantitative Analysis\n",
    "\n",
    "In this section, you will calculate and visualize performance and risk metrics for the portfolios."
   ]
  },
  {
   "cell_type": "markdown",
   "metadata": {},
   "source": [
    "## Performance Anlysis\n",
    "\n",
    "#### Calculate and Plot the daily returns."
   ]
  },
  {
   "cell_type": "code",
   "execution_count": 131,
   "metadata": {},
   "outputs": [
    {
     "data": {
      "text/plain": [
       "<AxesSubplot:>"
      ]
     },
     "execution_count": 131,
     "metadata": {},
     "output_type": "execute_result"
    },
    {
     "data": {
      "image/png": "[encoded data removed]",
      "text/plain": [
       "<Figure size 720x360 with 1 Axes>"
      ]
     },
     "metadata": {
      "needs_background": "light"
     },
     "output_type": "display_data"
    }
   ],
   "source": [
    "# Plot daily returns of all portfolios\n",
    "combined_returns_df.plot(figsize=(10,5))"
   ]
  },
  {
   "cell_type": "markdown",
   "metadata": {},
   "source": [
    "#### Calculate and Plot cumulative returns."
   ]
  },
  {
   "cell_type": "code",
   "execution_count": 132,
   "metadata": {},
   "outputs": [
    {
     "data": {
      "text/plain": [
       "<AxesSubplot:>"
      ]
     },
     "execution_count": 132,
     "metadata": {},
     "output_type": "execute_result"
    },
    {
     "data": {
      "image/png": "[encoded data removed]",
      "text/plain": [
       "<Figure size 432x288 with 1 Axes>"
      ]
     },
     "metadata": {
      "needs_background": "light"
     },
     "output_type": "display_data"
    }
   ],
   "source": [
    "# Calculate cumulative returns of all portfolios\n",
    "combined_returns_df.cumprod()\n",
    "# Plot cumulative returns\n",
    "((combined_returns_df + 1).cumprod() -1).plot()"
   ]
  },
  {
   "cell_type": "markdown",
   "metadata": {},
   "source": [
    "---"
   ]
  },
  {
   "cell_type": "markdown",
   "metadata": {},
   "source": [
    "## Risk Analysis\n",
    "\n",
    "Determine the _risk_ of each portfolio:\n",
    "\n",
    "1. Create a box plot for each portfolio. \n",
    "2. Calculate the standard deviation for all portfolios\n",
    "4. Determine which portfolios are riskier than the S&P 500\n",
    "5. Calculate the Annualized Standard Deviation"
   ]
  },
  {
   "cell_type": "markdown",
   "metadata": {},
   "source": [
    "### Create a box plot for each portfolio\n"
   ]
  },
  {
   "cell_type": "code",
   "execution_count": 133,
   "metadata": {},
   "outputs": [
    {
     "data": {
      "text/plain": [
       "<AxesSubplot:xlabel='Date'>"
      ]
     },
     "execution_count": 133,
     "metadata": {},
     "output_type": "execute_result"
    },
    {
     "data": {
      "image/png": "[encoded data removed]",
      "text/plain": [
       "<Figure size 432x288 with 1 Axes>"
      ]
     },
     "metadata": {
      "needs_background": "light"
     },
     "output_type": "display_data"
    },
    {
     "data": {
      "image/png": "[encoded data removed]",
      "text/plain": [
       "<Figure size 432x288 with 1 Axes>"
      ]
     },
     "metadata": {
      "needs_background": "light"
     },
     "output_type": "display_data"
    },
    {
     "data": {
      "image/png": "[encoded data removed]",
      "text/plain": [
       "<Figure size 432x288 with 1 Axes>"
      ]
     },
     "metadata": {
      "needs_background": "light"
     },
     "output_type": "display_data"
    }
   ],
   "source": [
    "# Box plot to visually show risk\n",
    "whale_returns_df.plot()\n",
    "algo_returns_df.plot()\n",
    "daily_returns.plot()"
   ]
  },
  {
   "cell_type": "markdown",
   "metadata": {},
   "source": [
    "### Calculate Standard Deviations"
   ]
  },
  {
   "cell_type": "code",
   "execution_count": 134,
   "metadata": {},
   "outputs": [
    {
     "data": {
      "text/plain": [
       "SOROS FUND MANAGEMENT LLC      0.007842\n",
       "PAULSON & CO.INC.              0.006977\n",
       "TIGER GLOBAL MANAGEMENT LLC    0.010824\n",
       "BERKSHIRE HATHAWAY INC         0.012831\n",
       "Algo 1                         0.007972\n",
       "Algo 2                         0.008466\n",
       "dtype: float64"
      ]
     },
     "execution_count": 134,
     "metadata": {},
     "output_type": "execute_result"
    }
   ],
   "source": [
    "# Calculate the daily standard deviations of all portfolios\n",
    "combined_returns_df.std()"
   ]
  },
  {
   "cell_type": "code",
   "execution_count": 135,
   "metadata": {},
   "outputs": [
    {
     "name": "stdout",
     "output_type": "stream",
     "text": [
      "SP500    0.008135\n",
      "dtype: float64\n"
     ]
    }
   ],
   "source": [
    "print(daily_returns.std())"
   ]
  },
  {
   "cell_type": "markdown",
   "metadata": {},
   "source": [
    "### Determine which portfolios are riskier than the S&P 500"
   ]
  },
  {
   "cell_type": "code",
   "execution_count": 136,
   "metadata": {},
   "outputs": [
    {
     "name": "stdout",
     "output_type": "stream",
     "text": [
      "SOROS FUND MANAGEMENT LLC less risky\n",
      "PAULSON & CO.INC.  less risky\n",
      "TIGER GLOBAL MANAGEMENT LLC riskier\n",
      "BERKSHIRE HATHAWAY INC riskier\n",
      "Algo 1 less risky\n",
      "Algo 2 riskier\n"
     ]
    }
   ],
   "source": [
    "# Calculate  the daily standard deviation of S&P 500\n",
    "daily_returns.std()\n",
    "# Determine which portfolios are riskier than the S&P 500\n",
    "for i, v in combined_returns_df.std().iteritems():\n",
    "    if i == \"SP500\":\n",
    "        print(\"SP500\")\n",
    "    elif v > daily_returns.std()[0]:\n",
    "        print(i, \"riskier\")\n",
    "    elif v < daily_returns.std()[0]:\n",
    "        print(i, \"less risky\")\n",
    "   \n",
    "        "
   ]
  },
  {
   "cell_type": "code",
   "execution_count": null,
   "metadata": {},
   "outputs": [],
   "source": []
  },
  {
   "cell_type": "markdown",
   "metadata": {},
   "source": [
    "### Calculate the Annualized Standard Deviation"
   ]
  },
  {
   "cell_type": "code",
   "execution_count": 137,
   "metadata": {},
   "outputs": [
    {
     "data": {
      "text/plain": [
       "SOROS FUND MANAGEMENT LLC      0.000031\n",
       "PAULSON & CO.INC.              0.000028\n",
       "TIGER GLOBAL MANAGEMENT LLC    0.000043\n",
       "BERKSHIRE HATHAWAY INC         0.000051\n",
       "Algo 1                         0.000032\n",
       "Algo 2                         0.000034\n",
       "dtype: float64"
      ]
     },
     "execution_count": 137,
     "metadata": {},
     "output_type": "execute_result"
    }
   ],
   "source": [
    "# Calculate the annualized standard deviation (252 trading days)\n",
    "annual_std = combined_returns_df.std()/252\n",
    "annual_std"
   ]
  },
  {
   "cell_type": "markdown",
   "metadata": {},
   "source": [
    "---"
   ]
  },
  {
   "cell_type": "markdown",
   "metadata": {},
   "source": [
    "## Rolling Statistics\n",
    "\n",
    "Risk changes over time. Analyze the rolling statistics for Risk and Beta. \n",
    "\n",
    "1. Calculate and plot the rolling standard deviation for all portfolios using a 21-day window\n",
    "2. Calculate the correlation between each stock to determine which portfolios may mimick the S&P 500\n",
    "3. Choose one portfolio, then calculate and plot the 60-day rolling beta between it and the S&P 500"
   ]
  },
  {
   "cell_type": "markdown",
   "metadata": {},
   "source": [
    "### Calculate and plot rolling `std` for all portfolios with 21-day window"
   ]
  },
  {
   "cell_type": "code",
   "execution_count": 138,
   "metadata": {},
   "outputs": [
    {
     "data": {
      "text/plain": [
       "<AxesSubplot:>"
      ]
     },
     "execution_count": 138,
     "metadata": {},
     "output_type": "execute_result"
    },
    {
     "data": {
      "image/png": "[encoded data removed]",
      "text/plain": [
       "<Figure size 720x360 with 1 Axes>"
      ]
     },
     "metadata": {
      "needs_background": "light"
     },
     "output_type": "display_data"
    }
   ],
   "source": [
    "# Calculate the rolling standard deviation for all portfolios using a 21-day window\n",
    "rolling_df = combined_returns_df.rolling(window=21).std().dropna()\n",
    "rolling_df\n",
    "# Plot the rolling standard deviation\n",
    "rolling_df.plot(figsize=(10, 5))"
   ]
  },
  {
   "cell_type": "markdown",
   "metadata": {},
   "source": [
    "### Calculate and plot the correlation"
   ]
  },
  {
   "cell_type": "code",
   "execution_count": 139,
   "metadata": {},
   "outputs": [
    {
     "data": {
      "text/plain": [
       "<AxesSubplot:>"
      ]
     },
     "execution_count": 139,
     "metadata": {},
     "output_type": "execute_result"
    },
    {
     "data": {
      "image/png": "[encoded data removed]",
      "text/plain": [
       "<Figure size 432x288 with 2 Axes>"
      ]
     },
     "metadata": {
      "needs_background": "light"
     },
     "output_type": "display_data"
    }
   ],
   "source": [
    "# Calculate the correlation\n",
    "corr_returns = combined_returns_df.corr()\n",
    "# Display de correlation matrix\n",
    "import seaborn as sns\n",
    "sns.heatmap(corr_returns, vmin=-1, vmax=1)"
   ]
  },
  {
   "cell_type": "markdown",
   "metadata": {},
   "source": [
    "### Calculate and Plot Beta for a chosen portfolio and the S&P 500"
   ]
  },
  {
   "cell_type": "code",
   "execution_count": 140,
   "metadata": {},
   "outputs": [
    {
     "data": {
      "text/html": [
       "<div>\n",
       "<style scoped>\n",
       "    .dataframe tbody tr th:only-of-type {\n",
       "        vertical-align: middle;\n",
       "    }\n",
       "\n",
       "    .dataframe tbody tr th {\n",
       "        vertical-align: top;\n",
       "    }\n",
       "\n",
       "    .dataframe thead th {\n",
       "        text-align: right;\n",
       "    }\n",
       "</style>\n",
       "<table border=\"1\" class=\"dataframe\">\n",
       "  <thead>\n",
       "    <tr style=\"text-align: right;\">\n",
       "      <th></th>\n",
       "      <th>Algo 1</th>\n",
       "      <th>Algo 2</th>\n",
       "      <th>BERKSHIRE HATHAWAY INC</th>\n",
       "      <th>PAULSON &amp; CO.INC.</th>\n",
       "      <th>SOROS FUND MANAGEMENT LLC</th>\n",
       "      <th>SP500</th>\n",
       "      <th>TIGER GLOBAL MANAGEMENT LLC</th>\n",
       "    </tr>\n",
       "  </thead>\n",
       "  <tbody>\n",
       "    <tr>\n",
       "      <th>SOROS FUND MANAGEMENT LLC</th>\n",
       "      <td>NaN</td>\n",
       "      <td>NaN</td>\n",
       "      <td>NaN</td>\n",
       "      <td>NaN</td>\n",
       "      <td>NaN</td>\n",
       "      <td>NaN</td>\n",
       "      <td>NaN</td>\n",
       "    </tr>\n",
       "    <tr>\n",
       "      <th>PAULSON &amp; CO.INC.</th>\n",
       "      <td>NaN</td>\n",
       "      <td>NaN</td>\n",
       "      <td>NaN</td>\n",
       "      <td>NaN</td>\n",
       "      <td>NaN</td>\n",
       "      <td>NaN</td>\n",
       "      <td>NaN</td>\n",
       "    </tr>\n",
       "    <tr>\n",
       "      <th>TIGER GLOBAL MANAGEMENT LLC</th>\n",
       "      <td>NaN</td>\n",
       "      <td>NaN</td>\n",
       "      <td>NaN</td>\n",
       "      <td>NaN</td>\n",
       "      <td>NaN</td>\n",
       "      <td>NaN</td>\n",
       "      <td>NaN</td>\n",
       "    </tr>\n",
       "    <tr>\n",
       "      <th>BERKSHIRE HATHAWAY INC</th>\n",
       "      <td>NaN</td>\n",
       "      <td>NaN</td>\n",
       "      <td>NaN</td>\n",
       "      <td>NaN</td>\n",
       "      <td>NaN</td>\n",
       "      <td>NaN</td>\n",
       "      <td>NaN</td>\n",
       "    </tr>\n",
       "    <tr>\n",
       "      <th>Algo 1</th>\n",
       "      <td>NaN</td>\n",
       "      <td>NaN</td>\n",
       "      <td>NaN</td>\n",
       "      <td>NaN</td>\n",
       "      <td>NaN</td>\n",
       "      <td>NaN</td>\n",
       "      <td>NaN</td>\n",
       "    </tr>\n",
       "    <tr>\n",
       "      <th>Algo 2</th>\n",
       "      <td>NaN</td>\n",
       "      <td>NaN</td>\n",
       "      <td>NaN</td>\n",
       "      <td>NaN</td>\n",
       "      <td>NaN</td>\n",
       "      <td>NaN</td>\n",
       "      <td>NaN</td>\n",
       "    </tr>\n",
       "  </tbody>\n",
       "</table>\n",
       "</div>"
      ],
      "text/plain": [
       "                             Algo 1  Algo 2  BERKSHIRE HATHAWAY INC  \\\n",
       "SOROS FUND MANAGEMENT LLC       NaN     NaN                     NaN   \n",
       "PAULSON & CO.INC.               NaN     NaN                     NaN   \n",
       "TIGER GLOBAL MANAGEMENT LLC     NaN     NaN                     NaN   \n",
       "BERKSHIRE HATHAWAY INC          NaN     NaN                     NaN   \n",
       "Algo 1                          NaN     NaN                     NaN   \n",
       "Algo 2                          NaN     NaN                     NaN   \n",
       "\n",
       "                             PAULSON & CO.INC.   SOROS FUND MANAGEMENT LLC  \\\n",
       "SOROS FUND MANAGEMENT LLC                   NaN                        NaN   \n",
       "PAULSON & CO.INC.                           NaN                        NaN   \n",
       "TIGER GLOBAL MANAGEMENT LLC                 NaN                        NaN   \n",
       "BERKSHIRE HATHAWAY INC                      NaN                        NaN   \n",
       "Algo 1                                      NaN                        NaN   \n",
       "Algo 2                                      NaN                        NaN   \n",
       "\n",
       "                             SP500  TIGER GLOBAL MANAGEMENT LLC  \n",
       "SOROS FUND MANAGEMENT LLC      NaN                          NaN  \n",
       "PAULSON & CO.INC.              NaN                          NaN  \n",
       "TIGER GLOBAL MANAGEMENT LLC    NaN                          NaN  \n",
       "BERKSHIRE HATHAWAY INC         NaN                          NaN  \n",
       "Algo 1                         NaN                          NaN  \n",
       "Algo 2                         NaN                          NaN  "
      ]
     },
     "execution_count": 140,
     "metadata": {},
     "output_type": "execute_result"
    }
   ],
   "source": [
    "# Calculate covariance of a single portfolio\n",
    "covariance = combined_returns_df.cov()\n",
    "\n",
    "# Calculate variance of S&P 500\n",
    "variance = daily_returns.var()\n",
    "\n",
    "# Computing beta\n",
    "beta = covariance/variance\n",
    "\n",
    "# Plot beta trend\n",
    "beta"
   ]
  },
  {
   "cell_type": "markdown",
   "metadata": {},
   "source": [
    "## Rolling Statistics Challenge: Exponentially Weighted Average \n",
    "\n",
    "An alternative way to calculate a rolling window is to take the exponentially weighted moving average. This is like a moving window average, but it assigns greater importance to more recent observations. Try calculating the [`ewm`](https://pandas.pydata.org/pandas-docs/stable/reference/api/pandas.DataFrame.ewm.html) with a 21-day half life for each portfolio, using standard deviation (`std`) as the metric of interest."
   ]
  },
  {
   "cell_type": "code",
   "execution_count": 141,
   "metadata": {},
   "outputs": [
    {
     "data": {
      "text/html": [
       "<div>\n",
       "<style scoped>\n",
       "    .dataframe tbody tr th:only-of-type {\n",
       "        vertical-align: middle;\n",
       "    }\n",
       "\n",
       "    .dataframe tbody tr th {\n",
       "        vertical-align: top;\n",
       "    }\n",
       "\n",
       "    .dataframe thead th {\n",
       "        text-align: right;\n",
       "    }\n",
       "</style>\n",
       "<table border=\"1\" class=\"dataframe\">\n",
       "  <thead>\n",
       "    <tr style=\"text-align: right;\">\n",
       "      <th></th>\n",
       "      <th>SOROS FUND MANAGEMENT LLC</th>\n",
       "      <th>PAULSON &amp; CO.INC.</th>\n",
       "      <th>TIGER GLOBAL MANAGEMENT LLC</th>\n",
       "      <th>BERKSHIRE HATHAWAY INC</th>\n",
       "    </tr>\n",
       "    <tr>\n",
       "      <th>Date</th>\n",
       "      <th></th>\n",
       "      <th></th>\n",
       "      <th></th>\n",
       "      <th></th>\n",
       "    </tr>\n",
       "  </thead>\n",
       "  <tbody>\n",
       "    <tr>\n",
       "      <th>2015-03-02</th>\n",
       "      <td>NaN</td>\n",
       "      <td>NaN</td>\n",
       "      <td>NaN</td>\n",
       "      <td>NaN</td>\n",
       "    </tr>\n",
       "    <tr>\n",
       "      <th>2015-03-03</th>\n",
       "      <td>NaN</td>\n",
       "      <td>NaN</td>\n",
       "      <td>NaN</td>\n",
       "      <td>NaN</td>\n",
       "    </tr>\n",
       "    <tr>\n",
       "      <th>2015-03-04</th>\n",
       "      <td>0.002472</td>\n",
       "      <td>0.005814</td>\n",
       "      <td>0.001441</td>\n",
       "      <td>0.007624</td>\n",
       "    </tr>\n",
       "    <tr>\n",
       "      <th>2015-03-05</th>\n",
       "      <td>0.002658</td>\n",
       "      <td>0.004896</td>\n",
       "      <td>0.002519</td>\n",
       "      <td>0.006934</td>\n",
       "    </tr>\n",
       "    <tr>\n",
       "      <th>2015-03-06</th>\n",
       "      <td>0.005515</td>\n",
       "      <td>0.004592</td>\n",
       "      <td>0.004808</td>\n",
       "      <td>0.009585</td>\n",
       "    </tr>\n",
       "    <tr>\n",
       "      <th>...</th>\n",
       "      <td>...</td>\n",
       "      <td>...</td>\n",
       "      <td>...</td>\n",
       "      <td>...</td>\n",
       "    </tr>\n",
       "    <tr>\n",
       "      <th>2019-04-25</th>\n",
       "      <td>0.004773</td>\n",
       "      <td>0.005046</td>\n",
       "      <td>0.007946</td>\n",
       "      <td>0.007527</td>\n",
       "    </tr>\n",
       "    <tr>\n",
       "      <th>2019-04-26</th>\n",
       "      <td>0.004944</td>\n",
       "      <td>0.005556</td>\n",
       "      <td>0.008453</td>\n",
       "      <td>0.007608</td>\n",
       "    </tr>\n",
       "    <tr>\n",
       "      <th>2019-04-29</th>\n",
       "      <td>0.004722</td>\n",
       "      <td>0.005334</td>\n",
       "      <td>0.008218</td>\n",
       "      <td>0.007294</td>\n",
       "    </tr>\n",
       "    <tr>\n",
       "      <th>2019-04-30</th>\n",
       "      <td>0.004612</td>\n",
       "      <td>0.005162</td>\n",
       "      <td>0.007849</td>\n",
       "      <td>0.007219</td>\n",
       "    </tr>\n",
       "    <tr>\n",
       "      <th>2019-05-01</th>\n",
       "      <td>0.004940</td>\n",
       "      <td>0.004952</td>\n",
       "      <td>0.007948</td>\n",
       "      <td>0.007499</td>\n",
       "    </tr>\n",
       "  </tbody>\n",
       "</table>\n",
       "<p>1060 rows × 4 columns</p>\n",
       "</div>"
      ],
      "text/plain": [
       "            SOROS FUND MANAGEMENT LLC  PAULSON & CO.INC.   \\\n",
       "Date                                                        \n",
       "2015-03-02                        NaN                 NaN   \n",
       "2015-03-03                        NaN                 NaN   \n",
       "2015-03-04                   0.002472            0.005814   \n",
       "2015-03-05                   0.002658            0.004896   \n",
       "2015-03-06                   0.005515            0.004592   \n",
       "...                               ...                 ...   \n",
       "2019-04-25                   0.004773            0.005046   \n",
       "2019-04-26                   0.004944            0.005556   \n",
       "2019-04-29                   0.004722            0.005334   \n",
       "2019-04-30                   0.004612            0.005162   \n",
       "2019-05-01                   0.004940            0.004952   \n",
       "\n",
       "            TIGER GLOBAL MANAGEMENT LLC  BERKSHIRE HATHAWAY INC  \n",
       "Date                                                             \n",
       "2015-03-02                          NaN                     NaN  \n",
       "2015-03-03                          NaN                     NaN  \n",
       "2015-03-04                     0.001441                0.007624  \n",
       "2015-03-05                     0.002519                0.006934  \n",
       "2015-03-06                     0.004808                0.009585  \n",
       "...                                 ...                     ...  \n",
       "2019-04-25                     0.007946                0.007527  \n",
       "2019-04-26                     0.008453                0.007608  \n",
       "2019-04-29                     0.008218                0.007294  \n",
       "2019-04-30                     0.007849                0.007219  \n",
       "2019-05-01                     0.007948                0.007499  \n",
       "\n",
       "[1060 rows x 4 columns]"
      ]
     },
     "execution_count": 141,
     "metadata": {},
     "output_type": "execute_result"
    }
   ],
   "source": [
    "# Use `ewm` to calculate the rolling window\n",
    "whale_returns_df.ewm(span=21).std()\n"
   ]
  },
  {
   "cell_type": "markdown",
   "metadata": {},
   "source": [
    "---"
   ]
  },
  {
   "cell_type": "markdown",
   "metadata": {},
   "source": [
    "# Sharpe Ratios\n",
    "In reality, investment managers and thier institutional investors look at the ratio of return-to-risk, and not just returns alone. After all, if you could invest in one of two portfolios, and each offered the same 10% return, yet one offered lower risk, you'd take that one, right?\n",
    "\n",
    "### Using the daily returns, calculate and visualize the Sharpe ratios using a bar plot"
   ]
  },
  {
   "cell_type": "code",
   "execution_count": 142,
   "metadata": {},
   "outputs": [
    {
     "data": {
      "text/plain": [
       "SOROS FUND MANAGEMENT LLC      0.361568\n",
       "PAULSON & CO.INC.             -0.462131\n",
       "TIGER GLOBAL MANAGEMENT LLC   -0.118257\n",
       "BERKSHIRE HATHAWAY INC         0.619628\n",
       "Algo 1                         1.327397\n",
       "Algo 2                         0.639258\n",
       "dtype: float64"
      ]
     },
     "execution_count": 142,
     "metadata": {},
     "output_type": "execute_result"
    }
   ],
   "source": [
    "# Annualized Sharpe Ratios\n",
    "sharpe_ratios = (combined_returns_df.mean() * 252) / (combined_returns_df.std() * np.sqrt(252))\n",
    "sharpe_ratios"
   ]
  },
  {
   "cell_type": "code",
   "execution_count": 143,
   "metadata": {},
   "outputs": [
    {
     "data": {
      "text/plain": [
       "<AxesSubplot:>"
      ]
     },
     "execution_count": 143,
     "metadata": {},
     "output_type": "execute_result"
    },
    {
     "data": {
      "image/png": "[encoded data removed]",
      "text/plain": [
       "<Figure size 432x288 with 1 Axes>"
      ]
     },
     "metadata": {
      "needs_background": "light"
     },
     "output_type": "display_data"
    }
   ],
   "source": [
    "# Visualize the sharpe ratios as a bar plot\n",
    "sharpe_ratios.plot.bar()"
   ]
  },
  {
   "cell_type": "markdown",
   "metadata": {},
   "source": [
    "### Determine whether the algorithmic strategies outperform both the market (S&P 500) and the whales portfolios.\n",
    "\n",
    "Write your answer here!"
   ]
  },
  {
   "cell_type": "code",
   "execution_count": 144,
   "metadata": {},
   "outputs": [],
   "source": [
    "# Based on these figures, both of the algorithmic strategies outperformed both the market (S&P 500) and the whales portfolios"
   ]
  },
  {
   "cell_type": "markdown",
   "metadata": {},
   "source": [
    "---"
   ]
  },
  {
   "cell_type": "markdown",
   "metadata": {},
   "source": [
    "# Create Custom Portfolio\n",
    "\n",
    "In this section, you will build your own portfolio of stocks, calculate the returns, and compare the results to the Whale Portfolios and the S&P 500. \n",
    "\n",
    "1. Choose 3-5 custom stocks with at last 1 year's worth of historic prices and create a DataFrame of the closing prices and dates for each stock.\n",
    "2. Calculate the weighted returns for the portfolio assuming an equal number of shares for each stock\n",
    "3. Join your portfolio returns to the DataFrame that contains all of the portfolio returns\n",
    "4. Re-run the performance and risk analysis with your portfolio to see how it compares to the others\n",
    "5. Include correlation analysis to determine which stocks (if any) are correlated"
   ]
  },
  {
   "cell_type": "markdown",
   "metadata": {},
   "source": [
    "## Choose 3-5 custom stocks with at last 1 year's worth of historic prices and create a DataFrame of the closing prices and dates for each stock."
   ]
  },
  {
   "cell_type": "code",
   "execution_count": 145,
   "metadata": {},
   "outputs": [
    {
     "data": {
      "text/html": [
       "<div>\n",
       "<style scoped>\n",
       "    .dataframe tbody tr th:only-of-type {\n",
       "        vertical-align: middle;\n",
       "    }\n",
       "\n",
       "    .dataframe tbody tr th {\n",
       "        vertical-align: top;\n",
       "    }\n",
       "\n",
       "    .dataframe thead th {\n",
       "        text-align: right;\n",
       "    }\n",
       "</style>\n",
       "<table border=\"1\" class=\"dataframe\">\n",
       "  <thead>\n",
       "    <tr style=\"text-align: right;\">\n",
       "      <th></th>\n",
       "      <th>Close</th>\n",
       "    </tr>\n",
       "    <tr>\n",
       "      <th>Date</th>\n",
       "      <th></th>\n",
       "    </tr>\n",
       "  </thead>\n",
       "  <tbody>\n",
       "    <tr>\n",
       "      <th>2017-01-01 23:58:00</th>\n",
       "      <td>992.95</td>\n",
       "    </tr>\n",
       "    <tr>\n",
       "      <th>2017-01-02 23:58:00</th>\n",
       "      <td>1011.45</td>\n",
       "    </tr>\n",
       "    <tr>\n",
       "      <th>2017-01-03 23:58:00</th>\n",
       "      <td>1020.67</td>\n",
       "    </tr>\n",
       "    <tr>\n",
       "      <th>2017-01-04 23:58:00</th>\n",
       "      <td>1130.30</td>\n",
       "    </tr>\n",
       "    <tr>\n",
       "      <th>2017-01-05 23:58:00</th>\n",
       "      <td>1007.00</td>\n",
       "    </tr>\n",
       "  </tbody>\n",
       "</table>\n",
       "</div>"
      ],
      "text/plain": [
       "                       Close\n",
       "Date                        \n",
       "2017-01-01 23:58:00   992.95\n",
       "2017-01-02 23:58:00  1011.45\n",
       "2017-01-03 23:58:00  1020.67\n",
       "2017-01-04 23:58:00  1130.30\n",
       "2017-01-05 23:58:00  1007.00"
      ]
     },
     "execution_count": 145,
     "metadata": {},
     "output_type": "execute_result"
    }
   ],
   "source": [
    "# Reading data from 1st stock\n",
    "BTC_returns_csv_path = Path(\"BTC_returns.csv\")\n",
    "BTC_returns_df = pd.read_csv(BTC_returns_csv_path, index_col=\"Date\", parse_dates=True, infer_datetime_format=True)\n",
    "BTC_returns_df.head()"
   ]
  },
  {
   "cell_type": "code",
   "execution_count": 146,
   "metadata": {},
   "outputs": [
    {
     "data": {
      "text/plain": [
       "DatetimeIndex(['2017-01-01 23:58:00', '2017-01-02 23:58:00',\n",
       "               '2017-01-03 23:58:00', '2017-01-04 23:58:00',\n",
       "               '2017-01-05 23:58:00', '2017-01-06 23:58:00',\n",
       "               '2017-01-07 23:58:00', '2017-01-08 23:58:00',\n",
       "               '2017-01-09 23:58:00', '2017-01-10 23:58:00',\n",
       "               ...\n",
       "               '2022-02-26 23:58:00', '2022-02-27 23:58:00',\n",
       "               '2022-02-28 23:58:00', '2022-03-01 23:58:00',\n",
       "               '2022-03-02 23:58:00', '2022-03-03 23:58:00',\n",
       "               '2022-03-04 23:58:00', '2022-03-05 23:58:00',\n",
       "               '2022-03-06 23:58:00', '2022-03-07 23:58:00'],\n",
       "              dtype='datetime64[ns]', name='Date', length=1892, freq=None)"
      ]
     },
     "execution_count": 146,
     "metadata": {},
     "output_type": "execute_result"
    }
   ],
   "source": [
    "BTC_returns_df.index"
   ]
  },
  {
   "cell_type": "code",
   "execution_count": 147,
   "metadata": {},
   "outputs": [
    {
     "data": {
      "text/html": [
       "<div>\n",
       "<style scoped>\n",
       "    .dataframe tbody tr th:only-of-type {\n",
       "        vertical-align: middle;\n",
       "    }\n",
       "\n",
       "    .dataframe tbody tr th {\n",
       "        vertical-align: top;\n",
       "    }\n",
       "\n",
       "    .dataframe thead th {\n",
       "        text-align: right;\n",
       "    }\n",
       "</style>\n",
       "<table border=\"1\" class=\"dataframe\">\n",
       "  <thead>\n",
       "    <tr style=\"text-align: right;\">\n",
       "      <th></th>\n",
       "      <th>Close</th>\n",
       "    </tr>\n",
       "    <tr>\n",
       "      <th>Date</th>\n",
       "      <th></th>\n",
       "    </tr>\n",
       "  </thead>\n",
       "  <tbody>\n",
       "    <tr>\n",
       "      <th>2017-01-01 23:58:00</th>\n",
       "      <td>8.18</td>\n",
       "    </tr>\n",
       "    <tr>\n",
       "      <th>2017-01-02 23:58:00</th>\n",
       "      <td>8.38</td>\n",
       "    </tr>\n",
       "    <tr>\n",
       "      <th>2017-01-03 23:58:00</th>\n",
       "      <td>9.59</td>\n",
       "    </tr>\n",
       "    <tr>\n",
       "      <th>2017-01-04 23:58:00</th>\n",
       "      <td>11.17</td>\n",
       "    </tr>\n",
       "    <tr>\n",
       "      <th>2017-01-05 23:58:00</th>\n",
       "      <td>10.23</td>\n",
       "    </tr>\n",
       "  </tbody>\n",
       "</table>\n",
       "</div>"
      ],
      "text/plain": [
       "                     Close\n",
       "Date                      \n",
       "2017-01-01 23:58:00   8.18\n",
       "2017-01-02 23:58:00   8.38\n",
       "2017-01-03 23:58:00   9.59\n",
       "2017-01-04 23:58:00  11.17\n",
       "2017-01-05 23:58:00  10.23"
      ]
     },
     "execution_count": 147,
     "metadata": {},
     "output_type": "execute_result"
    }
   ],
   "source": [
    "# Reading data from 2nd stock\n",
    "ETH_returns_csv_path = Path(\"ETH_returns.csv\")\n",
    "ETH_returns_df = pd.read_csv(ETH_returns_csv_path, index_col=\"Date\", parse_dates=True, infer_datetime_format=True)\n",
    "ETH_returns_df.head()"
   ]
  },
  {
   "cell_type": "code",
   "execution_count": 148,
   "metadata": {},
   "outputs": [
    {
     "data": {
      "text/html": [
       "<div>\n",
       "<style scoped>\n",
       "    .dataframe tbody tr th:only-of-type {\n",
       "        vertical-align: middle;\n",
       "    }\n",
       "\n",
       "    .dataframe tbody tr th {\n",
       "        vertical-align: top;\n",
       "    }\n",
       "\n",
       "    .dataframe thead th {\n",
       "        text-align: right;\n",
       "    }\n",
       "</style>\n",
       "<table border=\"1\" class=\"dataframe\">\n",
       "  <thead>\n",
       "    <tr style=\"text-align: right;\">\n",
       "      <th></th>\n",
       "      <th>Close</th>\n",
       "    </tr>\n",
       "    <tr>\n",
       "      <th>Date</th>\n",
       "      <th></th>\n",
       "    </tr>\n",
       "  </thead>\n",
       "  <tbody>\n",
       "    <tr>\n",
       "      <th>2017-01-03 16:00:00</th>\n",
       "      <td>43.40</td>\n",
       "    </tr>\n",
       "    <tr>\n",
       "      <th>2017-01-04 16:00:00</th>\n",
       "      <td>45.40</td>\n",
       "    </tr>\n",
       "    <tr>\n",
       "      <th>2017-01-05 16:00:00</th>\n",
       "      <td>45.35</td>\n",
       "    </tr>\n",
       "    <tr>\n",
       "      <th>2017-01-06 16:00:00</th>\n",
       "      <td>45.80</td>\n",
       "    </tr>\n",
       "    <tr>\n",
       "      <th>2017-01-09 16:00:00</th>\n",
       "      <td>46.26</td>\n",
       "    </tr>\n",
       "  </tbody>\n",
       "</table>\n",
       "</div>"
      ],
      "text/plain": [
       "                     Close\n",
       "Date                      \n",
       "2017-01-03 16:00:00  43.40\n",
       "2017-01-04 16:00:00  45.40\n",
       "2017-01-05 16:00:00  45.35\n",
       "2017-01-06 16:00:00  45.80\n",
       "2017-01-09 16:00:00  46.26"
      ]
     },
     "execution_count": 148,
     "metadata": {},
     "output_type": "execute_result"
    }
   ],
   "source": [
    "# Reading data from 3rd stock\n",
    "TSLA_returns_csv_path = Path(\"TSLA_returns.csv\")\n",
    "TSLA_returns_df = pd.read_csv(TSLA_returns_csv_path, index_col=\"Date\", parse_dates=True, infer_datetime_format=True)\n",
    "TSLA_returns_df.head()\n",
    "\n",
    "# TSLA_returns_df.rename(columns={'Close': 'TSLA'}, inplace=True)"
   ]
  },
  {
   "cell_type": "code",
   "execution_count": 149,
   "metadata": {},
   "outputs": [],
   "source": [
    "# Combine all stocks in a single DataFrame\n",
    "combined_milli_df = pd.concat([BTC_returns_df, ETH_returns_df, TSLA_returns_df], axis=\"columns\")\n",
    "\n",
    "# Sort datetime index\n",
    "combined_milli_df.sort_index(inplace=True)"
   ]
  },
  {
   "cell_type": "code",
   "execution_count": 150,
   "metadata": {},
   "outputs": [
    {
     "data": {
      "text/html": [
       "<div>\n",
       "<style scoped>\n",
       "    .dataframe tbody tr th:only-of-type {\n",
       "        vertical-align: middle;\n",
       "    }\n",
       "\n",
       "    .dataframe tbody tr th {\n",
       "        vertical-align: top;\n",
       "    }\n",
       "\n",
       "    .dataframe thead th {\n",
       "        text-align: right;\n",
       "    }\n",
       "</style>\n",
       "<table border=\"1\" class=\"dataframe\">\n",
       "  <thead>\n",
       "    <tr style=\"text-align: right;\">\n",
       "      <th></th>\n",
       "      <th>Close</th>\n",
       "      <th>Close</th>\n",
       "      <th>Close</th>\n",
       "    </tr>\n",
       "    <tr>\n",
       "      <th>Date</th>\n",
       "      <th></th>\n",
       "      <th></th>\n",
       "      <th></th>\n",
       "    </tr>\n",
       "  </thead>\n",
       "  <tbody>\n",
       "    <tr>\n",
       "      <th>2017-01-01 23:58:00</th>\n",
       "      <td>992.95</td>\n",
       "      <td>8.18</td>\n",
       "      <td>NaN</td>\n",
       "    </tr>\n",
       "    <tr>\n",
       "      <th>2017-01-02 23:58:00</th>\n",
       "      <td>1011.45</td>\n",
       "      <td>8.38</td>\n",
       "      <td>NaN</td>\n",
       "    </tr>\n",
       "    <tr>\n",
       "      <th>2017-01-03 16:00:00</th>\n",
       "      <td>NaN</td>\n",
       "      <td>NaN</td>\n",
       "      <td>43.4</td>\n",
       "    </tr>\n",
       "    <tr>\n",
       "      <th>2017-01-03 23:58:00</th>\n",
       "      <td>1020.67</td>\n",
       "      <td>9.59</td>\n",
       "      <td>NaN</td>\n",
       "    </tr>\n",
       "    <tr>\n",
       "      <th>2017-01-04 16:00:00</th>\n",
       "      <td>NaN</td>\n",
       "      <td>NaN</td>\n",
       "      <td>45.4</td>\n",
       "    </tr>\n",
       "  </tbody>\n",
       "</table>\n",
       "</div>"
      ],
      "text/plain": [
       "                       Close  Close  Close\n",
       "Date                                      \n",
       "2017-01-01 23:58:00   992.95   8.18    NaN\n",
       "2017-01-02 23:58:00  1011.45   8.38    NaN\n",
       "2017-01-03 16:00:00      NaN    NaN   43.4\n",
       "2017-01-03 23:58:00  1020.67   9.59    NaN\n",
       "2017-01-04 16:00:00      NaN    NaN   45.4"
      ]
     },
     "execution_count": 150,
     "metadata": {},
     "output_type": "execute_result"
    }
   ],
   "source": [
    "\n",
    "combined_milli_df.head()"
   ]
  },
  {
   "cell_type": "code",
   "execution_count": 151,
   "metadata": {},
   "outputs": [
    {
     "data": {
      "text/html": [
       "<div>\n",
       "<style scoped>\n",
       "    .dataframe tbody tr th:only-of-type {\n",
       "        vertical-align: middle;\n",
       "    }\n",
       "\n",
       "    .dataframe tbody tr th {\n",
       "        vertical-align: top;\n",
       "    }\n",
       "\n",
       "    .dataframe thead th {\n",
       "        text-align: right;\n",
       "    }\n",
       "</style>\n",
       "<table border=\"1\" class=\"dataframe\">\n",
       "  <thead>\n",
       "    <tr style=\"text-align: right;\">\n",
       "      <th></th>\n",
       "      <th>Date</th>\n",
       "      <th>Close</th>\n",
       "      <th>Close</th>\n",
       "      <th>Close</th>\n",
       "    </tr>\n",
       "  </thead>\n",
       "  <tbody>\n",
       "    <tr>\n",
       "      <th>0</th>\n",
       "      <td>2017-01-01 23:58:00</td>\n",
       "      <td>992.95</td>\n",
       "      <td>8.18</td>\n",
       "      <td>NaN</td>\n",
       "    </tr>\n",
       "    <tr>\n",
       "      <th>1</th>\n",
       "      <td>2017-01-02 23:58:00</td>\n",
       "      <td>1011.45</td>\n",
       "      <td>8.38</td>\n",
       "      <td>NaN</td>\n",
       "    </tr>\n",
       "    <tr>\n",
       "      <th>2</th>\n",
       "      <td>2017-01-03 16:00:00</td>\n",
       "      <td>NaN</td>\n",
       "      <td>NaN</td>\n",
       "      <td>43.40</td>\n",
       "    </tr>\n",
       "    <tr>\n",
       "      <th>3</th>\n",
       "      <td>2017-01-03 23:58:00</td>\n",
       "      <td>1020.67</td>\n",
       "      <td>9.59</td>\n",
       "      <td>NaN</td>\n",
       "    </tr>\n",
       "    <tr>\n",
       "      <th>4</th>\n",
       "      <td>2017-01-04 16:00:00</td>\n",
       "      <td>NaN</td>\n",
       "      <td>NaN</td>\n",
       "      <td>45.40</td>\n",
       "    </tr>\n",
       "    <tr>\n",
       "      <th>...</th>\n",
       "      <td>...</td>\n",
       "      <td>...</td>\n",
       "      <td>...</td>\n",
       "      <td>...</td>\n",
       "    </tr>\n",
       "    <tr>\n",
       "      <th>3190</th>\n",
       "      <td>2022-03-04 23:58:00</td>\n",
       "      <td>39166.40</td>\n",
       "      <td>2616.54</td>\n",
       "      <td>NaN</td>\n",
       "    </tr>\n",
       "    <tr>\n",
       "      <th>3191</th>\n",
       "      <td>2022-03-05 23:58:00</td>\n",
       "      <td>39412.90</td>\n",
       "      <td>2665.77</td>\n",
       "      <td>NaN</td>\n",
       "    </tr>\n",
       "    <tr>\n",
       "      <th>3192</th>\n",
       "      <td>2022-03-06 23:58:00</td>\n",
       "      <td>38408.00</td>\n",
       "      <td>2550.46</td>\n",
       "      <td>NaN</td>\n",
       "    </tr>\n",
       "    <tr>\n",
       "      <th>3193</th>\n",
       "      <td>2022-03-07 16:00:00</td>\n",
       "      <td>NaN</td>\n",
       "      <td>NaN</td>\n",
       "      <td>804.58</td>\n",
       "    </tr>\n",
       "    <tr>\n",
       "      <th>3194</th>\n",
       "      <td>2022-03-07 23:58:00</td>\n",
       "      <td>37998.00</td>\n",
       "      <td>2491.67</td>\n",
       "      <td>NaN</td>\n",
       "    </tr>\n",
       "  </tbody>\n",
       "</table>\n",
       "<p>3195 rows × 4 columns</p>\n",
       "</div>"
      ],
      "text/plain": [
       "                    Date     Close    Close   Close\n",
       "0    2017-01-01 23:58:00    992.95     8.18     NaN\n",
       "1    2017-01-02 23:58:00   1011.45     8.38     NaN\n",
       "2    2017-01-03 16:00:00       NaN      NaN   43.40\n",
       "3    2017-01-03 23:58:00   1020.67     9.59     NaN\n",
       "4    2017-01-04 16:00:00       NaN      NaN   45.40\n",
       "...                  ...       ...      ...     ...\n",
       "3190 2022-03-04 23:58:00  39166.40  2616.54     NaN\n",
       "3191 2022-03-05 23:58:00  39412.90  2665.77     NaN\n",
       "3192 2022-03-06 23:58:00  38408.00  2550.46     NaN\n",
       "3193 2022-03-07 16:00:00       NaN      NaN  804.58\n",
       "3194 2022-03-07 23:58:00  37998.00  2491.67     NaN\n",
       "\n",
       "[3195 rows x 4 columns]"
      ]
     },
     "execution_count": 151,
     "metadata": {},
     "output_type": "execute_result"
    }
   ],
   "source": [
    "# Reset Date index\n",
    "combined_milli_df.reset_index()\n"
   ]
  },
  {
   "cell_type": "code",
   "execution_count": 152,
   "metadata": {},
   "outputs": [
    {
     "data": {
      "text/html": [
       "<div>\n",
       "<style scoped>\n",
       "    .dataframe tbody tr th:only-of-type {\n",
       "        vertical-align: middle;\n",
       "    }\n",
       "\n",
       "    .dataframe tbody tr th {\n",
       "        vertical-align: top;\n",
       "    }\n",
       "\n",
       "    .dataframe thead th {\n",
       "        text-align: right;\n",
       "    }\n",
       "</style>\n",
       "<table border=\"1\" class=\"dataframe\">\n",
       "  <thead>\n",
       "    <tr style=\"text-align: right;\">\n",
       "      <th></th>\n",
       "      <th>BTC</th>\n",
       "      <th>ETH</th>\n",
       "      <th>TSLA</th>\n",
       "    </tr>\n",
       "    <tr>\n",
       "      <th>Date</th>\n",
       "      <th></th>\n",
       "      <th></th>\n",
       "      <th></th>\n",
       "    </tr>\n",
       "  </thead>\n",
       "  <tbody>\n",
       "    <tr>\n",
       "      <th>2017-01-01 23:58:00</th>\n",
       "      <td>992.95</td>\n",
       "      <td>8.18</td>\n",
       "      <td>NaN</td>\n",
       "    </tr>\n",
       "    <tr>\n",
       "      <th>2017-01-02 23:58:00</th>\n",
       "      <td>1011.45</td>\n",
       "      <td>8.38</td>\n",
       "      <td>NaN</td>\n",
       "    </tr>\n",
       "    <tr>\n",
       "      <th>2017-01-03 16:00:00</th>\n",
       "      <td>NaN</td>\n",
       "      <td>NaN</td>\n",
       "      <td>43.40</td>\n",
       "    </tr>\n",
       "    <tr>\n",
       "      <th>2017-01-03 23:58:00</th>\n",
       "      <td>1020.67</td>\n",
       "      <td>9.59</td>\n",
       "      <td>NaN</td>\n",
       "    </tr>\n",
       "    <tr>\n",
       "      <th>2017-01-04 16:00:00</th>\n",
       "      <td>NaN</td>\n",
       "      <td>NaN</td>\n",
       "      <td>45.40</td>\n",
       "    </tr>\n",
       "    <tr>\n",
       "      <th>2017-01-04 23:58:00</th>\n",
       "      <td>1130.30</td>\n",
       "      <td>11.17</td>\n",
       "      <td>NaN</td>\n",
       "    </tr>\n",
       "    <tr>\n",
       "      <th>2017-01-05 16:00:00</th>\n",
       "      <td>NaN</td>\n",
       "      <td>NaN</td>\n",
       "      <td>45.35</td>\n",
       "    </tr>\n",
       "    <tr>\n",
       "      <th>2017-01-05 23:58:00</th>\n",
       "      <td>1007.00</td>\n",
       "      <td>10.23</td>\n",
       "      <td>NaN</td>\n",
       "    </tr>\n",
       "    <tr>\n",
       "      <th>2017-01-06 16:00:00</th>\n",
       "      <td>NaN</td>\n",
       "      <td>NaN</td>\n",
       "      <td>45.80</td>\n",
       "    </tr>\n",
       "    <tr>\n",
       "      <th>2017-01-06 23:58:00</th>\n",
       "      <td>895.71</td>\n",
       "      <td>10.14</td>\n",
       "      <td>NaN</td>\n",
       "    </tr>\n",
       "  </tbody>\n",
       "</table>\n",
       "</div>"
      ],
      "text/plain": [
       "                         BTC    ETH   TSLA\n",
       "Date                                      \n",
       "2017-01-01 23:58:00   992.95   8.18    NaN\n",
       "2017-01-02 23:58:00  1011.45   8.38    NaN\n",
       "2017-01-03 16:00:00      NaN    NaN  43.40\n",
       "2017-01-03 23:58:00  1020.67   9.59    NaN\n",
       "2017-01-04 16:00:00      NaN    NaN  45.40\n",
       "2017-01-04 23:58:00  1130.30  11.17    NaN\n",
       "2017-01-05 16:00:00      NaN    NaN  45.35\n",
       "2017-01-05 23:58:00  1007.00  10.23    NaN\n",
       "2017-01-06 16:00:00      NaN    NaN  45.80\n",
       "2017-01-06 23:58:00   895.71  10.14    NaN"
      ]
     },
     "execution_count": 152,
     "metadata": {},
     "output_type": "execute_result"
    }
   ],
   "source": [
    "# Reorganize portfolio data by having a column per symbol\n",
    "combined_milli_df.columns = [\"BTC\", \"ETH\", \"TSLA\"]\n",
    "combined_milli_df.head(10)\n"
   ]
  },
  {
   "cell_type": "code",
   "execution_count": 153,
   "metadata": {},
   "outputs": [
    {
     "name": "stdout",
     "output_type": "stream",
     "text": [
      "['BTC', 'ETH', 'TSLA']\n"
     ]
    },
    {
     "data": {
      "text/html": [
       "<div>\n",
       "<style scoped>\n",
       "    .dataframe tbody tr th:only-of-type {\n",
       "        vertical-align: middle;\n",
       "    }\n",
       "\n",
       "    .dataframe tbody tr th {\n",
       "        vertical-align: top;\n",
       "    }\n",
       "\n",
       "    .dataframe thead th {\n",
       "        text-align: right;\n",
       "    }\n",
       "</style>\n",
       "<table border=\"1\" class=\"dataframe\">\n",
       "  <thead>\n",
       "    <tr style=\"text-align: right;\">\n",
       "      <th></th>\n",
       "      <th>BTC</th>\n",
       "      <th>ETH</th>\n",
       "      <th>TSLA</th>\n",
       "    </tr>\n",
       "    <tr>\n",
       "      <th>Date</th>\n",
       "      <th></th>\n",
       "      <th></th>\n",
       "      <th></th>\n",
       "    </tr>\n",
       "  </thead>\n",
       "  <tbody>\n",
       "  </tbody>\n",
       "</table>\n",
       "</div>"
      ],
      "text/plain": [
       "Empty DataFrame\n",
       "Columns: [BTC, ETH, TSLA]\n",
       "Index: []"
      ]
     },
     "execution_count": 153,
     "metadata": {},
     "output_type": "execute_result"
    }
   ],
   "source": [
    "print(combined_milli_df.columns.tolist())\n",
    "\n",
    "combined_milli_df.sort_index()\n",
    "combined_milli_df.dropna()\n",
    "#date only\n",
    "\n"
   ]
  },
  {
   "cell_type": "code",
   "execution_count": 154,
   "metadata": {},
   "outputs": [
    {
     "data": {
      "text/html": [
       "<div>\n",
       "<style scoped>\n",
       "    .dataframe tbody tr th:only-of-type {\n",
       "        vertical-align: middle;\n",
       "    }\n",
       "\n",
       "    .dataframe tbody tr th {\n",
       "        vertical-align: top;\n",
       "    }\n",
       "\n",
       "    .dataframe thead th {\n",
       "        text-align: right;\n",
       "    }\n",
       "</style>\n",
       "<table border=\"1\" class=\"dataframe\">\n",
       "  <thead>\n",
       "    <tr style=\"text-align: right;\">\n",
       "      <th></th>\n",
       "      <th>BTC</th>\n",
       "      <th>ETH</th>\n",
       "      <th>TSLA</th>\n",
       "    </tr>\n",
       "  </thead>\n",
       "  <tbody>\n",
       "    <tr>\n",
       "      <th>2017-01-03</th>\n",
       "      <td>0.009116</td>\n",
       "      <td>0.144391</td>\n",
       "      <td>0.000000</td>\n",
       "    </tr>\n",
       "    <tr>\n",
       "      <th>2017-01-04</th>\n",
       "      <td>0.107410</td>\n",
       "      <td>0.164755</td>\n",
       "      <td>0.046083</td>\n",
       "    </tr>\n",
       "    <tr>\n",
       "      <th>2017-01-05</th>\n",
       "      <td>-0.109086</td>\n",
       "      <td>-0.084154</td>\n",
       "      <td>-0.001101</td>\n",
       "    </tr>\n",
       "    <tr>\n",
       "      <th>2017-01-06</th>\n",
       "      <td>-0.110516</td>\n",
       "      <td>-0.008798</td>\n",
       "      <td>0.009923</td>\n",
       "    </tr>\n",
       "    <tr>\n",
       "      <th>2017-01-07</th>\n",
       "      <td>0.014837</td>\n",
       "      <td>-0.021696</td>\n",
       "      <td>0.000000</td>\n",
       "    </tr>\n",
       "    <tr>\n",
       "      <th>2017-01-08</th>\n",
       "      <td>0.015765</td>\n",
       "      <td>0.058468</td>\n",
       "      <td>0.000000</td>\n",
       "    </tr>\n",
       "    <tr>\n",
       "      <th>2017-01-09</th>\n",
       "      <td>-0.022386</td>\n",
       "      <td>-0.010476</td>\n",
       "      <td>0.010044</td>\n",
       "    </tr>\n",
       "    <tr>\n",
       "      <th>2017-01-10</th>\n",
       "      <td>0.004808</td>\n",
       "      <td>0.023099</td>\n",
       "      <td>-0.006269</td>\n",
       "    </tr>\n",
       "    <tr>\n",
       "      <th>2017-01-11</th>\n",
       "      <td>-0.122635</td>\n",
       "      <td>-0.063970</td>\n",
       "      <td>-0.000435</td>\n",
       "    </tr>\n",
       "    <tr>\n",
       "      <th>2017-01-12</th>\n",
       "      <td>0.020710</td>\n",
       "      <td>-0.015075</td>\n",
       "      <td>-0.000653</td>\n",
       "    </tr>\n",
       "  </tbody>\n",
       "</table>\n",
       "</div>"
      ],
      "text/plain": [
       "                 BTC       ETH      TSLA\n",
       "2017-01-03  0.009116  0.144391  0.000000\n",
       "2017-01-04  0.107410  0.164755  0.046083\n",
       "2017-01-05 -0.109086 -0.084154 -0.001101\n",
       "2017-01-06 -0.110516 -0.008798  0.009923\n",
       "2017-01-07  0.014837 -0.021696  0.000000\n",
       "2017-01-08  0.015765  0.058468  0.000000\n",
       "2017-01-09 -0.022386 -0.010476  0.010044\n",
       "2017-01-10  0.004808  0.023099 -0.006269\n",
       "2017-01-11 -0.122635 -0.063970 -0.000435\n",
       "2017-01-12  0.020710 -0.015075 -0.000653"
      ]
     },
     "execution_count": 154,
     "metadata": {},
     "output_type": "execute_result"
    }
   ],
   "source": [
    "# Calculate daily returns\n",
    "daily_return = combined_milli_df.pct_change(1)\n",
    "\n",
    "# Drop NAs\n",
    "daily_return = daily_return.dropna()\n",
    "\n",
    "#change date + time to date only\n",
    "daily_return.index = daily_return.index.date\n",
    "\n",
    "# Display sample data\n",
    "daily_return = daily_return.groupby(level=0).sum()\n",
    "daily_return.head(10)"
   ]
  },
  {
   "cell_type": "markdown",
   "metadata": {},
   "source": [
    "## Calculate the weighted returns for the portfolio assuming an equal number of shares for each stock"
   ]
  },
  {
   "cell_type": "code",
   "execution_count": 155,
   "metadata": {},
   "outputs": [],
   "source": [
    "# # Set weights\n",
    "# weights = [1/3, 1/3, 1/3]\n",
    "\n",
    "# # Calculate portfolio return\n",
    "# #ret_data = daily_return.pct_change()\n",
    "# #weighted_returns = (weights * ret_data)\n",
    "# weighted_returns.dropna()\n",
    "\n",
    "# # Display sample data\n",
    "# print(weighted_returns)"
   ]
  },
  {
   "cell_type": "code",
   "execution_count": 156,
   "metadata": {},
   "outputs": [
    {
     "data": {
      "text/plain": [
       "[0.3333333333333333, 0.3333333333333333, 0.3333333333333333]"
      ]
     },
     "execution_count": 156,
     "metadata": {},
     "output_type": "execute_result"
    }
   ],
   "source": [
    "# Set weights\n",
    "weights = [1/3, 1/3, 1/3]\n",
    "weights"
   ]
  },
  {
   "cell_type": "code",
   "execution_count": 157,
   "metadata": {},
   "outputs": [],
   "source": [
    "# Calculate portfolio return\n",
    "\n"
   ]
  },
  {
   "cell_type": "code",
   "execution_count": 158,
   "metadata": {},
   "outputs": [
    {
     "data": {
      "text/plain": [
       "2017-01-03    0.051169\n",
       "2017-01-04    0.106083\n",
       "2017-01-05   -0.064780\n",
       "2017-01-06   -0.036464\n",
       "2017-01-07   -0.002286\n",
       "dtype: float64"
      ]
     },
     "execution_count": 158,
     "metadata": {},
     "output_type": "execute_result"
    }
   ],
   "source": [
    "weighted_returns = daily_return.dot(weights)\n",
    "weighted_returns.head()"
   ]
  },
  {
   "cell_type": "code",
   "execution_count": 159,
   "metadata": {},
   "outputs": [
    {
     "data": {
      "text/plain": [
       "2017-01-03    0.051169\n",
       "2017-01-04    0.106083\n",
       "2017-01-05   -0.064780\n",
       "2017-01-06   -0.036464\n",
       "2017-01-07   -0.002286\n",
       "dtype: float64"
      ]
     },
     "execution_count": 159,
     "metadata": {},
     "output_type": "execute_result"
    }
   ],
   "source": [
    "#weighted_returns.dropna()\n",
    "weighted_returns = weighted_returns.dropna()\n",
    "weighted_returns.head()"
   ]
  },
  {
   "cell_type": "code",
   "execution_count": 160,
   "metadata": {},
   "outputs": [
    {
     "name": "stdout",
     "output_type": "stream",
     "text": [
      "2017-01-03    0.051169\n",
      "2017-01-04    0.106083\n",
      "2017-01-05   -0.064780\n",
      "2017-01-06   -0.036464\n",
      "2017-01-07   -0.002286\n",
      "                ...   \n",
      "2022-03-03   -0.039401\n",
      "2022-03-04   -0.051813\n",
      "2022-03-05    0.008370\n",
      "2022-03-06   -0.022918\n",
      "2022-03-07   -0.024646\n",
      "Length: 1890, dtype: float64\n"
     ]
    }
   ],
   "source": [
    "print(weighted_returns)"
   ]
  },
  {
   "cell_type": "code",
   "execution_count": 161,
   "metadata": {},
   "outputs": [
    {
     "data": {
      "text/plain": [
       "Index([2014-05-28, 2014-05-29, 2014-05-30, 2014-06-02, 2014-06-03, 2014-06-04,\n",
       "       2014-06-05, 2014-06-06, 2014-06-09, 2014-06-10,\n",
       "       ...\n",
       "       2019-04-17, 2019-04-18, 2019-04-22, 2019-04-23, 2019-04-24, 2019-04-25,\n",
       "       2019-04-26, 2019-04-29, 2019-04-30, 2019-05-01],\n",
       "      dtype='object', length=1251)"
      ]
     },
     "execution_count": 161,
     "metadata": {},
     "output_type": "execute_result"
    }
   ],
   "source": [
    "combined_returns_df.index"
   ]
  },
  {
   "cell_type": "code",
   "execution_count": 162,
   "metadata": {},
   "outputs": [
    {
     "name": "stdout",
     "output_type": "stream",
     "text": [
      "[6.99532661]\n"
     ]
    }
   ],
   "source": [
    "# cumulative return\n",
    "portfolio_returns = weighted_returns.sum()\n",
    "cumulative_ret = (portfolio_returns + 1).cumprod()\n",
    "print(cumulative_ret)"
   ]
  },
  {
   "cell_type": "code",
   "execution_count": 163,
   "metadata": {},
   "outputs": [
    {
     "data": {
      "text/plain": [
       "Index(['SOROS FUND MANAGEMENT LLC', 'PAULSON & CO.INC. ',\n",
       "       'TIGER GLOBAL MANAGEMENT LLC', 'BERKSHIRE HATHAWAY INC', 'Algo 1',\n",
       "       'Algo 2'],\n",
       "      dtype='object')"
      ]
     },
     "execution_count": 163,
     "metadata": {},
     "output_type": "execute_result"
    }
   ],
   "source": [
    "combined_returns_df.columns"
   ]
  },
  {
   "cell_type": "code",
   "execution_count": 164,
   "metadata": {},
   "outputs": [
    {
     "data": {
      "text/plain": [
       "Index(['BTC', 'ETH', 'TSLA'], dtype='object')"
      ]
     },
     "execution_count": 164,
     "metadata": {},
     "output_type": "execute_result"
    }
   ],
   "source": [
    "daily_return.columns"
   ]
  },
  {
   "cell_type": "code",
   "execution_count": 165,
   "metadata": {},
   "outputs": [],
   "source": [
    "combined_returns_df['BTC'] = daily_return['BTC']"
   ]
  },
  {
   "cell_type": "code",
   "execution_count": 166,
   "metadata": {},
   "outputs": [
    {
     "data": {
      "text/html": [
       "<div>\n",
       "<style scoped>\n",
       "    .dataframe tbody tr th:only-of-type {\n",
       "        vertical-align: middle;\n",
       "    }\n",
       "\n",
       "    .dataframe tbody tr th {\n",
       "        vertical-align: top;\n",
       "    }\n",
       "\n",
       "    .dataframe thead th {\n",
       "        text-align: right;\n",
       "    }\n",
       "</style>\n",
       "<table border=\"1\" class=\"dataframe\">\n",
       "  <thead>\n",
       "    <tr style=\"text-align: right;\">\n",
       "      <th></th>\n",
       "      <th>SOROS FUND MANAGEMENT LLC</th>\n",
       "      <th>PAULSON &amp; CO.INC.</th>\n",
       "      <th>TIGER GLOBAL MANAGEMENT LLC</th>\n",
       "      <th>BERKSHIRE HATHAWAY INC</th>\n",
       "      <th>Algo 1</th>\n",
       "      <th>Algo 2</th>\n",
       "      <th>BTC</th>\n",
       "      <th>ETH</th>\n",
       "      <th>TSLA</th>\n",
       "    </tr>\n",
       "  </thead>\n",
       "  <tbody>\n",
       "    <tr>\n",
       "      <th>2014-05-28</th>\n",
       "      <td>NaN</td>\n",
       "      <td>NaN</td>\n",
       "      <td>NaN</td>\n",
       "      <td>NaN</td>\n",
       "      <td>0.001745</td>\n",
       "      <td>NaN</td>\n",
       "      <td>NaN</td>\n",
       "      <td>NaN</td>\n",
       "      <td>NaN</td>\n",
       "    </tr>\n",
       "    <tr>\n",
       "      <th>2014-05-29</th>\n",
       "      <td>NaN</td>\n",
       "      <td>NaN</td>\n",
       "      <td>NaN</td>\n",
       "      <td>NaN</td>\n",
       "      <td>0.003978</td>\n",
       "      <td>NaN</td>\n",
       "      <td>NaN</td>\n",
       "      <td>NaN</td>\n",
       "      <td>NaN</td>\n",
       "    </tr>\n",
       "    <tr>\n",
       "      <th>2014-05-30</th>\n",
       "      <td>NaN</td>\n",
       "      <td>NaN</td>\n",
       "      <td>NaN</td>\n",
       "      <td>NaN</td>\n",
       "      <td>0.004464</td>\n",
       "      <td>NaN</td>\n",
       "      <td>NaN</td>\n",
       "      <td>NaN</td>\n",
       "      <td>NaN</td>\n",
       "    </tr>\n",
       "    <tr>\n",
       "      <th>2014-06-02</th>\n",
       "      <td>NaN</td>\n",
       "      <td>NaN</td>\n",
       "      <td>NaN</td>\n",
       "      <td>NaN</td>\n",
       "      <td>0.005692</td>\n",
       "      <td>NaN</td>\n",
       "      <td>NaN</td>\n",
       "      <td>NaN</td>\n",
       "      <td>NaN</td>\n",
       "    </tr>\n",
       "    <tr>\n",
       "      <th>2014-06-03</th>\n",
       "      <td>NaN</td>\n",
       "      <td>NaN</td>\n",
       "      <td>NaN</td>\n",
       "      <td>NaN</td>\n",
       "      <td>0.005292</td>\n",
       "      <td>NaN</td>\n",
       "      <td>NaN</td>\n",
       "      <td>NaN</td>\n",
       "      <td>NaN</td>\n",
       "    </tr>\n",
       "    <tr>\n",
       "      <th>...</th>\n",
       "      <td>...</td>\n",
       "      <td>...</td>\n",
       "      <td>...</td>\n",
       "      <td>...</td>\n",
       "      <td>...</td>\n",
       "      <td>...</td>\n",
       "      <td>...</td>\n",
       "      <td>...</td>\n",
       "      <td>...</td>\n",
       "    </tr>\n",
       "    <tr>\n",
       "      <th>2019-04-25</th>\n",
       "      <td>-0.000285</td>\n",
       "      <td>-0.001291</td>\n",
       "      <td>-0.005153</td>\n",
       "      <td>0.004848</td>\n",
       "      <td>0.000682</td>\n",
       "      <td>-0.007247</td>\n",
       "      <td>-0.058393</td>\n",
       "      <td>-0.083258</td>\n",
       "      <td>-0.042529</td>\n",
       "    </tr>\n",
       "    <tr>\n",
       "      <th>2019-04-26</th>\n",
       "      <td>0.008149</td>\n",
       "      <td>0.009162</td>\n",
       "      <td>0.012355</td>\n",
       "      <td>0.010434</td>\n",
       "      <td>0.002981</td>\n",
       "      <td>0.005256</td>\n",
       "      <td>0.006675</td>\n",
       "      <td>0.009608</td>\n",
       "      <td>-0.050474</td>\n",
       "    </tr>\n",
       "    <tr>\n",
       "      <th>2019-04-29</th>\n",
       "      <td>0.001254</td>\n",
       "      <td>0.002719</td>\n",
       "      <td>0.006251</td>\n",
       "      <td>0.005223</td>\n",
       "      <td>0.005208</td>\n",
       "      <td>0.002829</td>\n",
       "      <td>-0.001309</td>\n",
       "      <td>-0.005418</td>\n",
       "      <td>0.026791</td>\n",
       "    </tr>\n",
       "    <tr>\n",
       "      <th>2019-04-30</th>\n",
       "      <td>-0.001295</td>\n",
       "      <td>-0.002211</td>\n",
       "      <td>-0.000259</td>\n",
       "      <td>-0.003702</td>\n",
       "      <td>-0.002944</td>\n",
       "      <td>-0.001570</td>\n",
       "      <td>0.023150</td>\n",
       "      <td>0.052770</td>\n",
       "      <td>-0.011390</td>\n",
       "    </tr>\n",
       "    <tr>\n",
       "      <th>2019-05-01</th>\n",
       "      <td>-0.005847</td>\n",
       "      <td>-0.001341</td>\n",
       "      <td>-0.007936</td>\n",
       "      <td>-0.007833</td>\n",
       "      <td>0.000094</td>\n",
       "      <td>-0.007358</td>\n",
       "      <td>0.010199</td>\n",
       "      <td>-0.012531</td>\n",
       "      <td>-0.019690</td>\n",
       "    </tr>\n",
       "  </tbody>\n",
       "</table>\n",
       "<p>1251 rows × 9 columns</p>\n",
       "</div>"
      ],
      "text/plain": [
       "            SOROS FUND MANAGEMENT LLC  PAULSON & CO.INC.   \\\n",
       "2014-05-28                        NaN                 NaN   \n",
       "2014-05-29                        NaN                 NaN   \n",
       "2014-05-30                        NaN                 NaN   \n",
       "2014-06-02                        NaN                 NaN   \n",
       "2014-06-03                        NaN                 NaN   \n",
       "...                               ...                 ...   \n",
       "2019-04-25                  -0.000285           -0.001291   \n",
       "2019-04-26                   0.008149            0.009162   \n",
       "2019-04-29                   0.001254            0.002719   \n",
       "2019-04-30                  -0.001295           -0.002211   \n",
       "2019-05-01                  -0.005847           -0.001341   \n",
       "\n",
       "            TIGER GLOBAL MANAGEMENT LLC  BERKSHIRE HATHAWAY INC    Algo 1  \\\n",
       "2014-05-28                          NaN                     NaN  0.001745   \n",
       "2014-05-29                          NaN                     NaN  0.003978   \n",
       "2014-05-30                          NaN                     NaN  0.004464   \n",
       "2014-06-02                          NaN                     NaN  0.005692   \n",
       "2014-06-03                          NaN                     NaN  0.005292   \n",
       "...                                 ...                     ...       ...   \n",
       "2019-04-25                    -0.005153                0.004848  0.000682   \n",
       "2019-04-26                     0.012355                0.010434  0.002981   \n",
       "2019-04-29                     0.006251                0.005223  0.005208   \n",
       "2019-04-30                    -0.000259               -0.003702 -0.002944   \n",
       "2019-05-01                    -0.007936               -0.007833  0.000094   \n",
       "\n",
       "              Algo 2       BTC       ETH      TSLA  \n",
       "2014-05-28       NaN       NaN       NaN       NaN  \n",
       "2014-05-29       NaN       NaN       NaN       NaN  \n",
       "2014-05-30       NaN       NaN       NaN       NaN  \n",
       "2014-06-02       NaN       NaN       NaN       NaN  \n",
       "2014-06-03       NaN       NaN       NaN       NaN  \n",
       "...              ...       ...       ...       ...  \n",
       "2019-04-25 -0.007247 -0.058393 -0.083258 -0.042529  \n",
       "2019-04-26  0.005256  0.006675  0.009608 -0.050474  \n",
       "2019-04-29  0.002829 -0.001309 -0.005418  0.026791  \n",
       "2019-04-30 -0.001570  0.023150  0.052770 -0.011390  \n",
       "2019-05-01 -0.007358  0.010199 -0.012531 -0.019690  \n",
       "\n",
       "[1251 rows x 9 columns]"
      ]
     },
     "execution_count": 166,
     "metadata": {},
     "output_type": "execute_result"
    }
   ],
   "source": [
    "combined_returns_df['ETH'] = daily_return['ETH']\n",
    "combined_returns_df['TSLA'] = daily_return['TSLA']\n",
    "combined_returns_df"
   ]
  },
  {
   "cell_type": "markdown",
   "metadata": {},
   "source": [
    "## Join your portfolio returns to the DataFrame that contains all of the portfolio returns"
   ]
  },
  {
   "cell_type": "code",
   "execution_count": 167,
   "metadata": {},
   "outputs": [
    {
     "data": {
      "text/html": [
       "<div>\n",
       "<style scoped>\n",
       "    .dataframe tbody tr th:only-of-type {\n",
       "        vertical-align: middle;\n",
       "    }\n",
       "\n",
       "    .dataframe tbody tr th {\n",
       "        vertical-align: top;\n",
       "    }\n",
       "\n",
       "    .dataframe thead th {\n",
       "        text-align: right;\n",
       "    }\n",
       "</style>\n",
       "<table border=\"1\" class=\"dataframe\">\n",
       "  <thead>\n",
       "    <tr style=\"text-align: right;\">\n",
       "      <th></th>\n",
       "      <th>SOROS FUND MANAGEMENT LLC</th>\n",
       "      <th>PAULSON &amp; CO.INC.</th>\n",
       "      <th>TIGER GLOBAL MANAGEMENT LLC</th>\n",
       "      <th>BERKSHIRE HATHAWAY INC</th>\n",
       "      <th>Algo 1</th>\n",
       "      <th>Algo 2</th>\n",
       "      <th>BTC</th>\n",
       "      <th>ETH</th>\n",
       "      <th>TSLA</th>\n",
       "    </tr>\n",
       "  </thead>\n",
       "  <tbody>\n",
       "    <tr>\n",
       "      <th>2014-05-28</th>\n",
       "      <td>NaN</td>\n",
       "      <td>NaN</td>\n",
       "      <td>NaN</td>\n",
       "      <td>NaN</td>\n",
       "      <td>0.001745</td>\n",
       "      <td>NaN</td>\n",
       "      <td>NaN</td>\n",
       "      <td>NaN</td>\n",
       "      <td>NaN</td>\n",
       "    </tr>\n",
       "    <tr>\n",
       "      <th>2014-05-29</th>\n",
       "      <td>NaN</td>\n",
       "      <td>NaN</td>\n",
       "      <td>NaN</td>\n",
       "      <td>NaN</td>\n",
       "      <td>0.003978</td>\n",
       "      <td>NaN</td>\n",
       "      <td>NaN</td>\n",
       "      <td>NaN</td>\n",
       "      <td>NaN</td>\n",
       "    </tr>\n",
       "    <tr>\n",
       "      <th>2014-05-30</th>\n",
       "      <td>NaN</td>\n",
       "      <td>NaN</td>\n",
       "      <td>NaN</td>\n",
       "      <td>NaN</td>\n",
       "      <td>0.004464</td>\n",
       "      <td>NaN</td>\n",
       "      <td>NaN</td>\n",
       "      <td>NaN</td>\n",
       "      <td>NaN</td>\n",
       "    </tr>\n",
       "    <tr>\n",
       "      <th>2014-06-02</th>\n",
       "      <td>NaN</td>\n",
       "      <td>NaN</td>\n",
       "      <td>NaN</td>\n",
       "      <td>NaN</td>\n",
       "      <td>0.005692</td>\n",
       "      <td>NaN</td>\n",
       "      <td>NaN</td>\n",
       "      <td>NaN</td>\n",
       "      <td>NaN</td>\n",
       "    </tr>\n",
       "    <tr>\n",
       "      <th>2014-06-03</th>\n",
       "      <td>NaN</td>\n",
       "      <td>NaN</td>\n",
       "      <td>NaN</td>\n",
       "      <td>NaN</td>\n",
       "      <td>0.005292</td>\n",
       "      <td>NaN</td>\n",
       "      <td>NaN</td>\n",
       "      <td>NaN</td>\n",
       "      <td>NaN</td>\n",
       "    </tr>\n",
       "    <tr>\n",
       "      <th>...</th>\n",
       "      <td>...</td>\n",
       "      <td>...</td>\n",
       "      <td>...</td>\n",
       "      <td>...</td>\n",
       "      <td>...</td>\n",
       "      <td>...</td>\n",
       "      <td>...</td>\n",
       "      <td>...</td>\n",
       "      <td>...</td>\n",
       "    </tr>\n",
       "    <tr>\n",
       "      <th>2019-04-25</th>\n",
       "      <td>-0.000285</td>\n",
       "      <td>-0.001291</td>\n",
       "      <td>-0.005153</td>\n",
       "      <td>0.004848</td>\n",
       "      <td>0.000682</td>\n",
       "      <td>-0.007247</td>\n",
       "      <td>-0.058393</td>\n",
       "      <td>-0.083258</td>\n",
       "      <td>-0.042529</td>\n",
       "    </tr>\n",
       "    <tr>\n",
       "      <th>2019-04-26</th>\n",
       "      <td>0.008149</td>\n",
       "      <td>0.009162</td>\n",
       "      <td>0.012355</td>\n",
       "      <td>0.010434</td>\n",
       "      <td>0.002981</td>\n",
       "      <td>0.005256</td>\n",
       "      <td>0.006675</td>\n",
       "      <td>0.009608</td>\n",
       "      <td>-0.050474</td>\n",
       "    </tr>\n",
       "    <tr>\n",
       "      <th>2019-04-29</th>\n",
       "      <td>0.001254</td>\n",
       "      <td>0.002719</td>\n",
       "      <td>0.006251</td>\n",
       "      <td>0.005223</td>\n",
       "      <td>0.005208</td>\n",
       "      <td>0.002829</td>\n",
       "      <td>-0.001309</td>\n",
       "      <td>-0.005418</td>\n",
       "      <td>0.026791</td>\n",
       "    </tr>\n",
       "    <tr>\n",
       "      <th>2019-04-30</th>\n",
       "      <td>-0.001295</td>\n",
       "      <td>-0.002211</td>\n",
       "      <td>-0.000259</td>\n",
       "      <td>-0.003702</td>\n",
       "      <td>-0.002944</td>\n",
       "      <td>-0.001570</td>\n",
       "      <td>0.023150</td>\n",
       "      <td>0.052770</td>\n",
       "      <td>-0.011390</td>\n",
       "    </tr>\n",
       "    <tr>\n",
       "      <th>2019-05-01</th>\n",
       "      <td>-0.005847</td>\n",
       "      <td>-0.001341</td>\n",
       "      <td>-0.007936</td>\n",
       "      <td>-0.007833</td>\n",
       "      <td>0.000094</td>\n",
       "      <td>-0.007358</td>\n",
       "      <td>0.010199</td>\n",
       "      <td>-0.012531</td>\n",
       "      <td>-0.019690</td>\n",
       "    </tr>\n",
       "  </tbody>\n",
       "</table>\n",
       "<p>1251 rows × 9 columns</p>\n",
       "</div>"
      ],
      "text/plain": [
       "            SOROS FUND MANAGEMENT LLC  PAULSON & CO.INC.   \\\n",
       "2014-05-28                        NaN                 NaN   \n",
       "2014-05-29                        NaN                 NaN   \n",
       "2014-05-30                        NaN                 NaN   \n",
       "2014-06-02                        NaN                 NaN   \n",
       "2014-06-03                        NaN                 NaN   \n",
       "...                               ...                 ...   \n",
       "2019-04-25                  -0.000285           -0.001291   \n",
       "2019-04-26                   0.008149            0.009162   \n",
       "2019-04-29                   0.001254            0.002719   \n",
       "2019-04-30                  -0.001295           -0.002211   \n",
       "2019-05-01                  -0.005847           -0.001341   \n",
       "\n",
       "            TIGER GLOBAL MANAGEMENT LLC  BERKSHIRE HATHAWAY INC    Algo 1  \\\n",
       "2014-05-28                          NaN                     NaN  0.001745   \n",
       "2014-05-29                          NaN                     NaN  0.003978   \n",
       "2014-05-30                          NaN                     NaN  0.004464   \n",
       "2014-06-02                          NaN                     NaN  0.005692   \n",
       "2014-06-03                          NaN                     NaN  0.005292   \n",
       "...                                 ...                     ...       ...   \n",
       "2019-04-25                    -0.005153                0.004848  0.000682   \n",
       "2019-04-26                     0.012355                0.010434  0.002981   \n",
       "2019-04-29                     0.006251                0.005223  0.005208   \n",
       "2019-04-30                    -0.000259               -0.003702 -0.002944   \n",
       "2019-05-01                    -0.007936               -0.007833  0.000094   \n",
       "\n",
       "              Algo 2       BTC       ETH      TSLA  \n",
       "2014-05-28       NaN       NaN       NaN       NaN  \n",
       "2014-05-29       NaN       NaN       NaN       NaN  \n",
       "2014-05-30       NaN       NaN       NaN       NaN  \n",
       "2014-06-02       NaN       NaN       NaN       NaN  \n",
       "2014-06-03       NaN       NaN       NaN       NaN  \n",
       "...              ...       ...       ...       ...  \n",
       "2019-04-25 -0.007247 -0.058393 -0.083258 -0.042529  \n",
       "2019-04-26  0.005256  0.006675  0.009608 -0.050474  \n",
       "2019-04-29  0.002829 -0.001309 -0.005418  0.026791  \n",
       "2019-04-30 -0.001570  0.023150  0.052770 -0.011390  \n",
       "2019-05-01 -0.007358  0.010199 -0.012531 -0.019690  \n",
       "\n",
       "[1251 rows x 9 columns]"
      ]
     },
     "execution_count": 167,
     "metadata": {},
     "output_type": "execute_result"
    }
   ],
   "source": [
    "# Join your returns DataFrame to the original returns DataFrame\n",
    "# combine dataframes - combined_returns_df & daily_return\n",
    "#combined_returns_df[\n",
    "#total_df = pd.concat([combined_returns_df, daily_return], axis=1)\n",
    "\n",
    "combined_returns_df\n"
   ]
  },
  {
   "cell_type": "code",
   "execution_count": null,
   "metadata": {},
   "outputs": [],
   "source": []
  },
  {
   "cell_type": "code",
   "execution_count": 168,
   "metadata": {},
   "outputs": [
    {
     "data": {
      "text/html": [
       "<div>\n",
       "<style scoped>\n",
       "    .dataframe tbody tr th:only-of-type {\n",
       "        vertical-align: middle;\n",
       "    }\n",
       "\n",
       "    .dataframe tbody tr th {\n",
       "        vertical-align: top;\n",
       "    }\n",
       "\n",
       "    .dataframe thead th {\n",
       "        text-align: right;\n",
       "    }\n",
       "</style>\n",
       "<table border=\"1\" class=\"dataframe\">\n",
       "  <thead>\n",
       "    <tr style=\"text-align: right;\">\n",
       "      <th></th>\n",
       "      <th>SOROS FUND MANAGEMENT LLC</th>\n",
       "      <th>PAULSON &amp; CO.INC.</th>\n",
       "      <th>TIGER GLOBAL MANAGEMENT LLC</th>\n",
       "      <th>BERKSHIRE HATHAWAY INC</th>\n",
       "      <th>Algo 1</th>\n",
       "      <th>Algo 2</th>\n",
       "      <th>BTC</th>\n",
       "      <th>ETH</th>\n",
       "      <th>TSLA</th>\n",
       "    </tr>\n",
       "  </thead>\n",
       "  <tbody>\n",
       "    <tr>\n",
       "      <th>2017-01-03</th>\n",
       "      <td>0.004301</td>\n",
       "      <td>0.015299</td>\n",
       "      <td>0.003969</td>\n",
       "      <td>0.008224</td>\n",
       "      <td>0.007381</td>\n",
       "      <td>0.009358</td>\n",
       "      <td>0.009116</td>\n",
       "      <td>0.144391</td>\n",
       "      <td>0.000000</td>\n",
       "    </tr>\n",
       "    <tr>\n",
       "      <th>2017-01-04</th>\n",
       "      <td>0.011581</td>\n",
       "      <td>0.007029</td>\n",
       "      <td>-0.001011</td>\n",
       "      <td>0.012204</td>\n",
       "      <td>0.012510</td>\n",
       "      <td>0.014701</td>\n",
       "      <td>0.107410</td>\n",
       "      <td>0.164755</td>\n",
       "      <td>0.046083</td>\n",
       "    </tr>\n",
       "    <tr>\n",
       "      <th>2017-01-05</th>\n",
       "      <td>0.003079</td>\n",
       "      <td>0.004107</td>\n",
       "      <td>-0.004264</td>\n",
       "      <td>0.016092</td>\n",
       "      <td>-0.003955</td>\n",
       "      <td>-0.001872</td>\n",
       "      <td>-0.109086</td>\n",
       "      <td>-0.084154</td>\n",
       "      <td>-0.001101</td>\n",
       "    </tr>\n",
       "    <tr>\n",
       "      <th>2017-01-06</th>\n",
       "      <td>0.003561</td>\n",
       "      <td>-0.013250</td>\n",
       "      <td>-0.001213</td>\n",
       "      <td>0.005667</td>\n",
       "      <td>-0.000364</td>\n",
       "      <td>0.000051</td>\n",
       "      <td>-0.110516</td>\n",
       "      <td>-0.008798</td>\n",
       "      <td>0.009923</td>\n",
       "    </tr>\n",
       "    <tr>\n",
       "      <th>2017-01-09</th>\n",
       "      <td>-0.000458</td>\n",
       "      <td>0.002007</td>\n",
       "      <td>-0.004540</td>\n",
       "      <td>-0.002642</td>\n",
       "      <td>0.002775</td>\n",
       "      <td>-0.006277</td>\n",
       "      <td>-0.022386</td>\n",
       "      <td>-0.010476</td>\n",
       "      <td>0.010044</td>\n",
       "    </tr>\n",
       "    <tr>\n",
       "      <th>...</th>\n",
       "      <td>...</td>\n",
       "      <td>...</td>\n",
       "      <td>...</td>\n",
       "      <td>...</td>\n",
       "      <td>...</td>\n",
       "      <td>...</td>\n",
       "      <td>...</td>\n",
       "      <td>...</td>\n",
       "      <td>...</td>\n",
       "    </tr>\n",
       "    <tr>\n",
       "      <th>2019-04-25</th>\n",
       "      <td>-0.000285</td>\n",
       "      <td>-0.001291</td>\n",
       "      <td>-0.005153</td>\n",
       "      <td>0.004848</td>\n",
       "      <td>0.000682</td>\n",
       "      <td>-0.007247</td>\n",
       "      <td>-0.058393</td>\n",
       "      <td>-0.083258</td>\n",
       "      <td>-0.042529</td>\n",
       "    </tr>\n",
       "    <tr>\n",
       "      <th>2019-04-26</th>\n",
       "      <td>0.008149</td>\n",
       "      <td>0.009162</td>\n",
       "      <td>0.012355</td>\n",
       "      <td>0.010434</td>\n",
       "      <td>0.002981</td>\n",
       "      <td>0.005256</td>\n",
       "      <td>0.006675</td>\n",
       "      <td>0.009608</td>\n",
       "      <td>-0.050474</td>\n",
       "    </tr>\n",
       "    <tr>\n",
       "      <th>2019-04-29</th>\n",
       "      <td>0.001254</td>\n",
       "      <td>0.002719</td>\n",
       "      <td>0.006251</td>\n",
       "      <td>0.005223</td>\n",
       "      <td>0.005208</td>\n",
       "      <td>0.002829</td>\n",
       "      <td>-0.001309</td>\n",
       "      <td>-0.005418</td>\n",
       "      <td>0.026791</td>\n",
       "    </tr>\n",
       "    <tr>\n",
       "      <th>2019-04-30</th>\n",
       "      <td>-0.001295</td>\n",
       "      <td>-0.002211</td>\n",
       "      <td>-0.000259</td>\n",
       "      <td>-0.003702</td>\n",
       "      <td>-0.002944</td>\n",
       "      <td>-0.001570</td>\n",
       "      <td>0.023150</td>\n",
       "      <td>0.052770</td>\n",
       "      <td>-0.011390</td>\n",
       "    </tr>\n",
       "    <tr>\n",
       "      <th>2019-05-01</th>\n",
       "      <td>-0.005847</td>\n",
       "      <td>-0.001341</td>\n",
       "      <td>-0.007936</td>\n",
       "      <td>-0.007833</td>\n",
       "      <td>0.000094</td>\n",
       "      <td>-0.007358</td>\n",
       "      <td>0.010199</td>\n",
       "      <td>-0.012531</td>\n",
       "      <td>-0.019690</td>\n",
       "    </tr>\n",
       "  </tbody>\n",
       "</table>\n",
       "<p>585 rows × 9 columns</p>\n",
       "</div>"
      ],
      "text/plain": [
       "            SOROS FUND MANAGEMENT LLC  PAULSON & CO.INC.   \\\n",
       "2017-01-03                   0.004301            0.015299   \n",
       "2017-01-04                   0.011581            0.007029   \n",
       "2017-01-05                   0.003079            0.004107   \n",
       "2017-01-06                   0.003561           -0.013250   \n",
       "2017-01-09                  -0.000458            0.002007   \n",
       "...                               ...                 ...   \n",
       "2019-04-25                  -0.000285           -0.001291   \n",
       "2019-04-26                   0.008149            0.009162   \n",
       "2019-04-29                   0.001254            0.002719   \n",
       "2019-04-30                  -0.001295           -0.002211   \n",
       "2019-05-01                  -0.005847           -0.001341   \n",
       "\n",
       "            TIGER GLOBAL MANAGEMENT LLC  BERKSHIRE HATHAWAY INC    Algo 1  \\\n",
       "2017-01-03                     0.003969                0.008224  0.007381   \n",
       "2017-01-04                    -0.001011                0.012204  0.012510   \n",
       "2017-01-05                    -0.004264                0.016092 -0.003955   \n",
       "2017-01-06                    -0.001213                0.005667 -0.000364   \n",
       "2017-01-09                    -0.004540               -0.002642  0.002775   \n",
       "...                                 ...                     ...       ...   \n",
       "2019-04-25                    -0.005153                0.004848  0.000682   \n",
       "2019-04-26                     0.012355                0.010434  0.002981   \n",
       "2019-04-29                     0.006251                0.005223  0.005208   \n",
       "2019-04-30                    -0.000259               -0.003702 -0.002944   \n",
       "2019-05-01                    -0.007936               -0.007833  0.000094   \n",
       "\n",
       "              Algo 2       BTC       ETH      TSLA  \n",
       "2017-01-03  0.009358  0.009116  0.144391  0.000000  \n",
       "2017-01-04  0.014701  0.107410  0.164755  0.046083  \n",
       "2017-01-05 -0.001872 -0.109086 -0.084154 -0.001101  \n",
       "2017-01-06  0.000051 -0.110516 -0.008798  0.009923  \n",
       "2017-01-09 -0.006277 -0.022386 -0.010476  0.010044  \n",
       "...              ...       ...       ...       ...  \n",
       "2019-04-25 -0.007247 -0.058393 -0.083258 -0.042529  \n",
       "2019-04-26  0.005256  0.006675  0.009608 -0.050474  \n",
       "2019-04-29  0.002829 -0.001309 -0.005418  0.026791  \n",
       "2019-04-30 -0.001570  0.023150  0.052770 -0.011390  \n",
       "2019-05-01 -0.007358  0.010199 -0.012531 -0.019690  \n",
       "\n",
       "[585 rows x 9 columns]"
      ]
     },
     "execution_count": 168,
     "metadata": {},
     "output_type": "execute_result"
    }
   ],
   "source": [
    "# Only compare dates where return data exists for all the stocks (drop NaNs)\n",
    "combined_returns_df = combined_returns_df.dropna()\n",
    "combined_returns_df"
   ]
  },
  {
   "cell_type": "markdown",
   "metadata": {},
   "source": [
    "## Re-run the risk analysis with your portfolio to see how it compares to the others"
   ]
  },
  {
   "cell_type": "markdown",
   "metadata": {},
   "source": [
    "### Calculate the Annualized Standard Deviation"
   ]
  },
  {
   "cell_type": "code",
   "execution_count": 169,
   "metadata": {},
   "outputs": [
    {
     "data": {
      "text/plain": [
       "SOROS FUND MANAGEMENT LLC      0.007828\n",
       "PAULSON & CO.INC.              0.006789\n",
       "TIGER GLOBAL MANAGEMENT LLC    0.011836\n",
       "BERKSHIRE HATHAWAY INC         0.012444\n",
       "Algo 1                         0.006692\n",
       "Algo 2                         0.007551\n",
       "BTC                            0.047950\n",
       "ETH                            0.066232\n",
       "TSLA                           0.030431\n",
       "dtype: float64"
      ]
     },
     "execution_count": 169,
     "metadata": {},
     "output_type": "execute_result"
    }
   ],
   "source": [
    "# Calculate the annualized `std`\n",
    "combined_returns_df.std()"
   ]
  },
  {
   "cell_type": "markdown",
   "metadata": {},
   "source": [
    "### Calculate and plot rolling `std` with 21-day window"
   ]
  },
  {
   "cell_type": "code",
   "execution_count": 179,
   "metadata": {},
   "outputs": [
    {
     "data": {
      "text/plain": [
       "<AxesSubplot:>"
      ]
     },
     "execution_count": 179,
     "metadata": {},
     "output_type": "execute_result"
    },
    {
     "data": {
      "image/png": "[encoded data removed]",
      "text/plain": [
       "<Figure size 432x288 with 1 Axes>"
      ]
     },
     "metadata": {
      "needs_background": "light"
     },
     "output_type": "display_data"
    }
   ],
   "source": [
    "# Calculate rolling standard deviation\n",
    "ax = combined_returns_df.plot()\n",
    "combined_returns_df.rolling(window=21).std().plot(ax=ax)\n",
    "# Plot rolling standard deviation\n"
   ]
  },
  {
   "cell_type": "markdown",
   "metadata": {},
   "source": [
    "### Calculate and plot the correlation"
   ]
  },
  {
   "cell_type": "code",
   "execution_count": 180,
   "metadata": {},
   "outputs": [
    {
     "data": {
      "text/html": [
       "<style type=\"text/css\">\n",
       "#T_b7987_row0_col0, #T_b7987_row1_col1, #T_b7987_row2_col2, #T_b7987_row3_col3, #T_b7987_row4_col4, #T_b7987_row5_col5, #T_b7987_row6_col6, #T_b7987_row7_col7, #T_b7987_row8_col8 {\n",
       "  background-color: #b40426;\n",
       "  color: #f1f1f1;\n",
       "}\n",
       "#T_b7987_row0_col1 {\n",
       "  background-color: #f7bca1;\n",
       "  color: #000000;\n",
       "}\n",
       "#T_b7987_row0_col2 {\n",
       "  background-color: #dadce0;\n",
       "  color: #000000;\n",
       "}\n",
       "#T_b7987_row0_col3 {\n",
       "  background-color: #f59c7d;\n",
       "  color: #000000;\n",
       "}\n",
       "#T_b7987_row0_col4 {\n",
       "  background-color: #8db0fe;\n",
       "  color: #000000;\n",
       "}\n",
       "#T_b7987_row0_col5 {\n",
       "  background-color: #f18d6f;\n",
       "  color: #f1f1f1;\n",
       "}\n",
       "#T_b7987_row0_col6 {\n",
       "  background-color: #5572df;\n",
       "  color: #f1f1f1;\n",
       "}\n",
       "#T_b7987_row0_col7, #T_b7987_row4_col2 {\n",
       "  background-color: #5875e1;\n",
       "  color: #f1f1f1;\n",
       "}\n",
       "#T_b7987_row0_col8 {\n",
       "  background-color: #a9c6fd;\n",
       "  color: #000000;\n",
       "}\n",
       "#T_b7987_row1_col0 {\n",
       "  background-color: #f7b89c;\n",
       "  color: #000000;\n",
       "}\n",
       "#T_b7987_row1_col2 {\n",
       "  background-color: #c7d7f0;\n",
       "  color: #000000;\n",
       "}\n",
       "#T_b7987_row1_col3 {\n",
       "  background-color: #e5d8d1;\n",
       "  color: #000000;\n",
       "}\n",
       "#T_b7987_row1_col4 {\n",
       "  background-color: #92b4fe;\n",
       "  color: #000000;\n",
       "}\n",
       "#T_b7987_row1_col5, #T_b7987_row5_col1 {\n",
       "  background-color: #f7af91;\n",
       "  color: #000000;\n",
       "}\n",
       "#T_b7987_row1_col6 {\n",
       "  background-color: #5f7fe8;\n",
       "  color: #f1f1f1;\n",
       "}\n",
       "#T_b7987_row1_col7 {\n",
       "  background-color: #6485ec;\n",
       "  color: #f1f1f1;\n",
       "}\n",
       "#T_b7987_row1_col8, #T_b7987_row8_col5 {\n",
       "  background-color: #8badfd;\n",
       "  color: #000000;\n",
       "}\n",
       "#T_b7987_row2_col0 {\n",
       "  background-color: #d2dbe8;\n",
       "  color: #000000;\n",
       "}\n",
       "#T_b7987_row2_col1 {\n",
       "  background-color: #b5cdfa;\n",
       "  color: #000000;\n",
       "}\n",
       "#T_b7987_row2_col3 {\n",
       "  background-color: #9dbdff;\n",
       "  color: #000000;\n",
       "}\n",
       "#T_b7987_row2_col4, #T_b7987_row4_col7 {\n",
       "  background-color: #4b64d5;\n",
       "  color: #f1f1f1;\n",
       "}\n",
       "#T_b7987_row2_col5 {\n",
       "  background-color: #bbd1f8;\n",
       "  color: #000000;\n",
       "}\n",
       "#T_b7987_row2_col6, #T_b7987_row7_col0 {\n",
       "  background-color: #445acc;\n",
       "  color: #f1f1f1;\n",
       "}\n",
       "#T_b7987_row2_col7 {\n",
       "  background-color: #455cce;\n",
       "  color: #f1f1f1;\n",
       "}\n",
       "#T_b7987_row2_col8, #T_b7987_row4_col1 {\n",
       "  background-color: #82a6fb;\n",
       "  color: #f1f1f1;\n",
       "}\n",
       "#T_b7987_row3_col0 {\n",
       "  background-color: #f49a7b;\n",
       "  color: #000000;\n",
       "}\n",
       "#T_b7987_row3_col1 {\n",
       "  background-color: #e3d9d3;\n",
       "  color: #000000;\n",
       "}\n",
       "#T_b7987_row3_col2 {\n",
       "  background-color: #afcafc;\n",
       "  color: #000000;\n",
       "}\n",
       "#T_b7987_row3_col4 {\n",
       "  background-color: #80a3fa;\n",
       "  color: #f1f1f1;\n",
       "}\n",
       "#T_b7987_row3_col5 {\n",
       "  background-color: #f7a889;\n",
       "  color: #000000;\n",
       "}\n",
       "#T_b7987_row3_col6 {\n",
       "  background-color: #5a78e4;\n",
       "  color: #f1f1f1;\n",
       "}\n",
       "#T_b7987_row3_col7, #T_b7987_row5_col6 {\n",
       "  background-color: #5d7ce6;\n",
       "  color: #f1f1f1;\n",
       "}\n",
       "#T_b7987_row3_col8 {\n",
       "  background-color: #bed2f6;\n",
       "  color: #000000;\n",
       "}\n",
       "#T_b7987_row4_col0, #T_b7987_row4_col5 {\n",
       "  background-color: #89acfd;\n",
       "  color: #000000;\n",
       "}\n",
       "#T_b7987_row4_col3 {\n",
       "  background-color: #7699f6;\n",
       "  color: #f1f1f1;\n",
       "}\n",
       "#T_b7987_row4_col6 {\n",
       "  background-color: #506bda;\n",
       "  color: #f1f1f1;\n",
       "}\n",
       "#T_b7987_row4_col8 {\n",
       "  background-color: #6180e9;\n",
       "  color: #f1f1f1;\n",
       "}\n",
       "#T_b7987_row5_col0 {\n",
       "  background-color: #f08a6c;\n",
       "  color: #f1f1f1;\n",
       "}\n",
       "#T_b7987_row5_col2 {\n",
       "  background-color: #cbd8ee;\n",
       "  color: #000000;\n",
       "}\n",
       "#T_b7987_row5_col3 {\n",
       "  background-color: #f7a688;\n",
       "  color: #000000;\n",
       "}\n",
       "#T_b7987_row5_col4 {\n",
       "  background-color: #94b6ff;\n",
       "  color: #000000;\n",
       "}\n",
       "#T_b7987_row5_col7 {\n",
       "  background-color: #6282ea;\n",
       "  color: #f1f1f1;\n",
       "}\n",
       "#T_b7987_row5_col8 {\n",
       "  background-color: #a7c5fe;\n",
       "  color: #000000;\n",
       "}\n",
       "#T_b7987_row6_col0, #T_b7987_row6_col1, #T_b7987_row6_col2, #T_b7987_row6_col3, #T_b7987_row6_col4, #T_b7987_row6_col5, #T_b7987_row6_col8, #T_b7987_row8_col6, #T_b7987_row8_col7 {\n",
       "  background-color: #3b4cc0;\n",
       "  color: #f1f1f1;\n",
       "}\n",
       "#T_b7987_row6_col7 {\n",
       "  background-color: #eed0c0;\n",
       "  color: #000000;\n",
       "}\n",
       "#T_b7987_row7_col1, #T_b7987_row7_col5 {\n",
       "  background-color: #465ecf;\n",
       "  color: #f1f1f1;\n",
       "}\n",
       "#T_b7987_row7_col2, #T_b7987_row7_col3 {\n",
       "  background-color: #4358cb;\n",
       "  color: #f1f1f1;\n",
       "}\n",
       "#T_b7987_row7_col4 {\n",
       "  background-color: #3d50c3;\n",
       "  color: #f1f1f1;\n",
       "}\n",
       "#T_b7987_row7_col6 {\n",
       "  background-color: #f0cdbb;\n",
       "  color: #000000;\n",
       "}\n",
       "#T_b7987_row7_col8 {\n",
       "  background-color: #4257c9;\n",
       "  color: #f1f1f1;\n",
       "}\n",
       "#T_b7987_row8_col0 {\n",
       "  background-color: #93b5fe;\n",
       "  color: #000000;\n",
       "}\n",
       "#T_b7987_row8_col1 {\n",
       "  background-color: #6788ee;\n",
       "  color: #f1f1f1;\n",
       "}\n",
       "#T_b7987_row8_col2 {\n",
       "  background-color: #799cf8;\n",
       "  color: #f1f1f1;\n",
       "}\n",
       "#T_b7987_row8_col3 {\n",
       "  background-color: #a6c4fe;\n",
       "  color: #000000;\n",
       "}\n",
       "#T_b7987_row8_col4 {\n",
       "  background-color: #4a63d3;\n",
       "  color: #f1f1f1;\n",
       "}\n",
       "</style>\n",
       "<table id=\"T_b7987_\">\n",
       "  <thead>\n",
       "    <tr>\n",
       "      <th class=\"blank level0\" >&nbsp;</th>\n",
       "      <th class=\"col_heading level0 col0\" >SOROS FUND MANAGEMENT LLC</th>\n",
       "      <th class=\"col_heading level0 col1\" >PAULSON & CO.INC. </th>\n",
       "      <th class=\"col_heading level0 col2\" >TIGER GLOBAL MANAGEMENT LLC</th>\n",
       "      <th class=\"col_heading level0 col3\" >BERKSHIRE HATHAWAY INC</th>\n",
       "      <th class=\"col_heading level0 col4\" >Algo 1</th>\n",
       "      <th class=\"col_heading level0 col5\" >Algo 2</th>\n",
       "      <th class=\"col_heading level0 col6\" >BTC</th>\n",
       "      <th class=\"col_heading level0 col7\" >ETH</th>\n",
       "      <th class=\"col_heading level0 col8\" >TSLA</th>\n",
       "    </tr>\n",
       "  </thead>\n",
       "  <tbody>\n",
       "    <tr>\n",
       "      <th id=\"T_b7987_level0_row0\" class=\"row_heading level0 row0\" >SOROS FUND MANAGEMENT LLC</th>\n",
       "      <td id=\"T_b7987_row0_col0\" class=\"data row0 col0\" >1.000000</td>\n",
       "      <td id=\"T_b7987_row0_col1\" class=\"data row0 col1\" >0.685399</td>\n",
       "      <td id=\"T_b7987_row0_col2\" class=\"data row0 col2\" >0.487092</td>\n",
       "      <td id=\"T_b7987_row0_col3\" class=\"data row0 col3\" >0.761103</td>\n",
       "      <td id=\"T_b7987_row0_col4\" class=\"data row0 col4\" >0.280278</td>\n",
       "      <td id=\"T_b7987_row0_col5\" class=\"data row0 col5\" >0.796782</td>\n",
       "      <td id=\"T_b7987_row0_col6\" class=\"data row0 col6\" >0.053634</td>\n",
       "      <td id=\"T_b7987_row0_col7\" class=\"data row0 col7\" >0.085422</td>\n",
       "      <td id=\"T_b7987_row0_col8\" class=\"data row0 col8\" >0.305272</td>\n",
       "    </tr>\n",
       "    <tr>\n",
       "      <th id=\"T_b7987_level0_row1\" class=\"row_heading level0 row1\" >PAULSON & CO.INC. </th>\n",
       "      <td id=\"T_b7987_row1_col0\" class=\"data row1 col0\" >0.685399</td>\n",
       "      <td id=\"T_b7987_row1_col1\" class=\"data row1 col1\" >1.000000</td>\n",
       "      <td id=\"T_b7987_row1_col2\" class=\"data row1 col2\" >0.420585</td>\n",
       "      <td id=\"T_b7987_row1_col3\" class=\"data row1 col3\" >0.565059</td>\n",
       "      <td id=\"T_b7987_row1_col4\" class=\"data row1 col4\" >0.288384</td>\n",
       "      <td id=\"T_b7987_row1_col5\" class=\"data row1 col5\" >0.718833</td>\n",
       "      <td id=\"T_b7987_row1_col6\" class=\"data row1 col6\" >0.084984</td>\n",
       "      <td id=\"T_b7987_row1_col7\" class=\"data row1 col7\" >0.121948</td>\n",
       "      <td id=\"T_b7987_row1_col8\" class=\"data row1 col8\" >0.216911</td>\n",
       "    </tr>\n",
       "    <tr>\n",
       "      <th id=\"T_b7987_level0_row2\" class=\"row_heading level0 row2\" >TIGER GLOBAL MANAGEMENT LLC</th>\n",
       "      <td id=\"T_b7987_row2_col0\" class=\"data row2 col0\" >0.487092</td>\n",
       "      <td id=\"T_b7987_row2_col1\" class=\"data row2 col1\" >0.420585</td>\n",
       "      <td id=\"T_b7987_row2_col2\" class=\"data row2 col2\" >1.000000</td>\n",
       "      <td id=\"T_b7987_row2_col3\" class=\"data row2 col3\" >0.346471</td>\n",
       "      <td id=\"T_b7987_row2_col4\" class=\"data row2 col4\" >0.091913</td>\n",
       "      <td id=\"T_b7987_row2_col5\" class=\"data row2 col5\" >0.431943</td>\n",
       "      <td id=\"T_b7987_row2_col6\" class=\"data row2 col6\" >-0.004120</td>\n",
       "      <td id=\"T_b7987_row2_col7\" class=\"data row2 col7\" >0.025912</td>\n",
       "      <td id=\"T_b7987_row2_col8\" class=\"data row2 col8\" >0.188790</td>\n",
       "    </tr>\n",
       "    <tr>\n",
       "      <th id=\"T_b7987_level0_row3\" class=\"row_heading level0 row3\" >BERKSHIRE HATHAWAY INC</th>\n",
       "      <td id=\"T_b7987_row3_col0\" class=\"data row3 col0\" >0.761103</td>\n",
       "      <td id=\"T_b7987_row3_col1\" class=\"data row3 col1\" >0.565059</td>\n",
       "      <td id=\"T_b7987_row3_col2\" class=\"data row3 col2\" >0.346471</td>\n",
       "      <td id=\"T_b7987_row3_col3\" class=\"data row3 col3\" >1.000000</td>\n",
       "      <td id=\"T_b7987_row3_col4\" class=\"data row3 col4\" >0.242135</td>\n",
       "      <td id=\"T_b7987_row3_col5\" class=\"data row3 col5\" >0.736808</td>\n",
       "      <td id=\"T_b7987_row3_col6\" class=\"data row3 col6\" >0.070745</td>\n",
       "      <td id=\"T_b7987_row3_col7\" class=\"data row3 col7\" >0.099442</td>\n",
       "      <td id=\"T_b7987_row3_col8\" class=\"data row3 col8\" >0.368897</td>\n",
       "    </tr>\n",
       "    <tr>\n",
       "      <th id=\"T_b7987_level0_row4\" class=\"row_heading level0 row4\" >Algo 1</th>\n",
       "      <td id=\"T_b7987_row4_col0\" class=\"data row4 col0\" >0.280278</td>\n",
       "      <td id=\"T_b7987_row4_col1\" class=\"data row4 col1\" >0.288384</td>\n",
       "      <td id=\"T_b7987_row4_col2\" class=\"data row4 col2\" >0.091913</td>\n",
       "      <td id=\"T_b7987_row4_col3\" class=\"data row4 col3\" >0.242135</td>\n",
       "      <td id=\"T_b7987_row4_col4\" class=\"data row4 col4\" >1.000000</td>\n",
       "      <td id=\"T_b7987_row4_col5\" class=\"data row4 col5\" >0.297679</td>\n",
       "      <td id=\"T_b7987_row4_col6\" class=\"data row4 col6\" >0.035638</td>\n",
       "      <td id=\"T_b7987_row4_col7\" class=\"data row4 col7\" >0.043216</td>\n",
       "      <td id=\"T_b7987_row4_col8\" class=\"data row4 col8\" >0.087305</td>\n",
       "    </tr>\n",
       "    <tr>\n",
       "      <th id=\"T_b7987_level0_row5\" class=\"row_heading level0 row5\" >Algo 2</th>\n",
       "      <td id=\"T_b7987_row5_col0\" class=\"data row5 col0\" >0.796782</td>\n",
       "      <td id=\"T_b7987_row5_col1\" class=\"data row5 col1\" >0.718833</td>\n",
       "      <td id=\"T_b7987_row5_col2\" class=\"data row5 col2\" >0.431943</td>\n",
       "      <td id=\"T_b7987_row5_col3\" class=\"data row5 col3\" >0.736808</td>\n",
       "      <td id=\"T_b7987_row5_col4\" class=\"data row5 col4\" >0.297679</td>\n",
       "      <td id=\"T_b7987_row5_col5\" class=\"data row5 col5\" >1.000000</td>\n",
       "      <td id=\"T_b7987_row5_col6\" class=\"data row5 col6\" >0.077345</td>\n",
       "      <td id=\"T_b7987_row5_col7\" class=\"data row5 col7\" >0.115527</td>\n",
       "      <td id=\"T_b7987_row5_col8\" class=\"data row5 col8\" >0.301501</td>\n",
       "    </tr>\n",
       "    <tr>\n",
       "      <th id=\"T_b7987_level0_row6\" class=\"row_heading level0 row6\" >BTC</th>\n",
       "      <td id=\"T_b7987_row6_col0\" class=\"data row6 col0\" >0.053634</td>\n",
       "      <td id=\"T_b7987_row6_col1\" class=\"data row6 col1\" >0.084984</td>\n",
       "      <td id=\"T_b7987_row6_col2\" class=\"data row6 col2\" >-0.004120</td>\n",
       "      <td id=\"T_b7987_row6_col3\" class=\"data row6 col3\" >0.070745</td>\n",
       "      <td id=\"T_b7987_row6_col4\" class=\"data row6 col4\" >0.035638</td>\n",
       "      <td id=\"T_b7987_row6_col5\" class=\"data row6 col5\" >0.077345</td>\n",
       "      <td id=\"T_b7987_row6_col6\" class=\"data row6 col6\" >1.000000</td>\n",
       "      <td id=\"T_b7987_row6_col7\" class=\"data row6 col7\" >0.572086</td>\n",
       "      <td id=\"T_b7987_row6_col8\" class=\"data row6 col8\" >-0.038688</td>\n",
       "    </tr>\n",
       "    <tr>\n",
       "      <th id=\"T_b7987_level0_row7\" class=\"row_heading level0 row7\" >ETH</th>\n",
       "      <td id=\"T_b7987_row7_col0\" class=\"data row7 col0\" >0.085422</td>\n",
       "      <td id=\"T_b7987_row7_col1\" class=\"data row7 col1\" >0.121948</td>\n",
       "      <td id=\"T_b7987_row7_col2\" class=\"data row7 col2\" >0.025912</td>\n",
       "      <td id=\"T_b7987_row7_col3\" class=\"data row7 col3\" >0.099442</td>\n",
       "      <td id=\"T_b7987_row7_col4\" class=\"data row7 col4\" >0.043216</td>\n",
       "      <td id=\"T_b7987_row7_col5\" class=\"data row7 col5\" >0.115527</td>\n",
       "      <td id=\"T_b7987_row7_col6\" class=\"data row7 col6\" >0.572086</td>\n",
       "      <td id=\"T_b7987_row7_col7\" class=\"data row7 col7\" >1.000000</td>\n",
       "      <td id=\"T_b7987_row7_col8\" class=\"data row7 col8\" >-0.012661</td>\n",
       "    </tr>\n",
       "    <tr>\n",
       "      <th id=\"T_b7987_level0_row8\" class=\"row_heading level0 row8\" >TSLA</th>\n",
       "      <td id=\"T_b7987_row8_col0\" class=\"data row8 col0\" >0.305272</td>\n",
       "      <td id=\"T_b7987_row8_col1\" class=\"data row8 col1\" >0.216911</td>\n",
       "      <td id=\"T_b7987_row8_col2\" class=\"data row8 col2\" >0.188790</td>\n",
       "      <td id=\"T_b7987_row8_col3\" class=\"data row8 col3\" >0.368897</td>\n",
       "      <td id=\"T_b7987_row8_col4\" class=\"data row8 col4\" >0.087305</td>\n",
       "      <td id=\"T_b7987_row8_col5\" class=\"data row8 col5\" >0.301501</td>\n",
       "      <td id=\"T_b7987_row8_col6\" class=\"data row8 col6\" >-0.038688</td>\n",
       "      <td id=\"T_b7987_row8_col7\" class=\"data row8 col7\" >-0.012661</td>\n",
       "      <td id=\"T_b7987_row8_col8\" class=\"data row8 col8\" >1.000000</td>\n",
       "    </tr>\n",
       "  </tbody>\n",
       "</table>\n"
      ],
      "text/plain": [
       "<pandas.io.formats.style.Styler at 0x1dcc2eef880>"
      ]
     },
     "execution_count": 180,
     "metadata": {},
     "output_type": "execute_result"
    }
   ],
   "source": [
    "# Calculate and plot the correlation\n",
    "corr = combined_returns_df.corr()\n",
    "corr.style.background_gradient(cmap='coolwarm')"
   ]
  },
  {
   "cell_type": "markdown",
   "metadata": {},
   "source": [
    "### Calculate and Plot Rolling 60-day Beta for Your Portfolio compared to the S&P 500"
   ]
  },
  {
   "cell_type": "code",
   "execution_count": 181,
   "metadata": {},
   "outputs": [
    {
     "data": {
      "text/html": [
       "<div>\n",
       "<style scoped>\n",
       "    .dataframe tbody tr th:only-of-type {\n",
       "        vertical-align: middle;\n",
       "    }\n",
       "\n",
       "    .dataframe tbody tr th {\n",
       "        vertical-align: top;\n",
       "    }\n",
       "\n",
       "    .dataframe thead th {\n",
       "        text-align: right;\n",
       "    }\n",
       "</style>\n",
       "<table border=\"1\" class=\"dataframe\">\n",
       "  <thead>\n",
       "    <tr style=\"text-align: right;\">\n",
       "      <th></th>\n",
       "      <th>SOROS FUND MANAGEMENT LLC</th>\n",
       "      <th>PAULSON &amp; CO.INC.</th>\n",
       "      <th>TIGER GLOBAL MANAGEMENT LLC</th>\n",
       "      <th>BERKSHIRE HATHAWAY INC</th>\n",
       "      <th>Algo 1</th>\n",
       "      <th>Algo 2</th>\n",
       "      <th>BTC</th>\n",
       "      <th>ETH</th>\n",
       "      <th>TSLA</th>\n",
       "    </tr>\n",
       "  </thead>\n",
       "  <tbody>\n",
       "    <tr>\n",
       "      <th>SOROS FUND MANAGEMENT LLC</th>\n",
       "      <td>1.000000</td>\n",
       "      <td>0.790253</td>\n",
       "      <td>0.322142</td>\n",
       "      <td>0.478766</td>\n",
       "      <td>0.327840</td>\n",
       "      <td>0.825988</td>\n",
       "      <td>0.008756</td>\n",
       "      <td>0.010095</td>\n",
       "      <td>0.078524</td>\n",
       "    </tr>\n",
       "    <tr>\n",
       "      <th>PAULSON &amp; CO.INC.</th>\n",
       "      <td>0.594458</td>\n",
       "      <td>1.000000</td>\n",
       "      <td>0.241250</td>\n",
       "      <td>0.308284</td>\n",
       "      <td>0.292565</td>\n",
       "      <td>0.646308</td>\n",
       "      <td>0.012032</td>\n",
       "      <td>0.012500</td>\n",
       "      <td>0.048392</td>\n",
       "    </tr>\n",
       "    <tr>\n",
       "      <th>TIGER GLOBAL MANAGEMENT LLC</th>\n",
       "      <td>0.736503</td>\n",
       "      <td>0.733231</td>\n",
       "      <td>1.000000</td>\n",
       "      <td>0.329542</td>\n",
       "      <td>0.162561</td>\n",
       "      <td>0.677056</td>\n",
       "      <td>-0.001017</td>\n",
       "      <td>0.004630</td>\n",
       "      <td>0.073427</td>\n",
       "    </tr>\n",
       "    <tr>\n",
       "      <th>BERKSHIRE HATHAWAY INC</th>\n",
       "      <td>1.209937</td>\n",
       "      <td>1.035705</td>\n",
       "      <td>0.364269</td>\n",
       "      <td>1.000000</td>\n",
       "      <td>0.450247</td>\n",
       "      <td>1.214251</td>\n",
       "      <td>0.018359</td>\n",
       "      <td>0.018683</td>\n",
       "      <td>0.150848</td>\n",
       "    </tr>\n",
       "    <tr>\n",
       "      <th>Algo 1</th>\n",
       "      <td>0.239615</td>\n",
       "      <td>0.284263</td>\n",
       "      <td>0.051969</td>\n",
       "      <td>0.130216</td>\n",
       "      <td>1.000000</td>\n",
       "      <td>0.263821</td>\n",
       "      <td>0.004974</td>\n",
       "      <td>0.004366</td>\n",
       "      <td>0.019199</td>\n",
       "    </tr>\n",
       "    <tr>\n",
       "      <th>Algo 2</th>\n",
       "      <td>0.768608</td>\n",
       "      <td>0.799495</td>\n",
       "      <td>0.275567</td>\n",
       "      <td>0.447096</td>\n",
       "      <td>0.335883</td>\n",
       "      <td>1.000000</td>\n",
       "      <td>0.012180</td>\n",
       "      <td>0.013171</td>\n",
       "      <td>0.074812</td>\n",
       "    </tr>\n",
       "    <tr>\n",
       "      <th>BTC</th>\n",
       "      <td>0.328552</td>\n",
       "      <td>0.600234</td>\n",
       "      <td>-0.016690</td>\n",
       "      <td>0.272608</td>\n",
       "      <td>0.255356</td>\n",
       "      <td>0.491167</td>\n",
       "      <td>1.000000</td>\n",
       "      <td>0.414169</td>\n",
       "      <td>-0.060961</td>\n",
       "    </tr>\n",
       "    <tr>\n",
       "      <th>ETH</th>\n",
       "      <td>0.722789</td>\n",
       "      <td>1.189707</td>\n",
       "      <td>0.145003</td>\n",
       "      <td>0.529288</td>\n",
       "      <td>0.427720</td>\n",
       "      <td>1.013351</td>\n",
       "      <td>0.790213</td>\n",
       "      <td>1.000000</td>\n",
       "      <td>-0.027556</td>\n",
       "    </tr>\n",
       "    <tr>\n",
       "      <th>TSLA</th>\n",
       "      <td>1.186786</td>\n",
       "      <td>0.972278</td>\n",
       "      <td>0.485401</td>\n",
       "      <td>0.902135</td>\n",
       "      <td>0.397008</td>\n",
       "      <td>1.215094</td>\n",
       "      <td>-0.024553</td>\n",
       "      <td>-0.005817</td>\n",
       "      <td>1.000000</td>\n",
       "    </tr>\n",
       "  </tbody>\n",
       "</table>\n",
       "</div>"
      ],
      "text/plain": [
       "                             SOROS FUND MANAGEMENT LLC  PAULSON & CO.INC.   \\\n",
       "SOROS FUND MANAGEMENT LLC                     1.000000            0.790253   \n",
       "PAULSON & CO.INC.                             0.594458            1.000000   \n",
       "TIGER GLOBAL MANAGEMENT LLC                   0.736503            0.733231   \n",
       "BERKSHIRE HATHAWAY INC                        1.209937            1.035705   \n",
       "Algo 1                                        0.239615            0.284263   \n",
       "Algo 2                                        0.768608            0.799495   \n",
       "BTC                                           0.328552            0.600234   \n",
       "ETH                                           0.722789            1.189707   \n",
       "TSLA                                          1.186786            0.972278   \n",
       "\n",
       "                             TIGER GLOBAL MANAGEMENT LLC  \\\n",
       "SOROS FUND MANAGEMENT LLC                       0.322142   \n",
       "PAULSON & CO.INC.                               0.241250   \n",
       "TIGER GLOBAL MANAGEMENT LLC                     1.000000   \n",
       "BERKSHIRE HATHAWAY INC                          0.364269   \n",
       "Algo 1                                          0.051969   \n",
       "Algo 2                                          0.275567   \n",
       "BTC                                            -0.016690   \n",
       "ETH                                             0.145003   \n",
       "TSLA                                            0.485401   \n",
       "\n",
       "                             BERKSHIRE HATHAWAY INC    Algo 1    Algo 2  \\\n",
       "SOROS FUND MANAGEMENT LLC                  0.478766  0.327840  0.825988   \n",
       "PAULSON & CO.INC.                          0.308284  0.292565  0.646308   \n",
       "TIGER GLOBAL MANAGEMENT LLC                0.329542  0.162561  0.677056   \n",
       "BERKSHIRE HATHAWAY INC                     1.000000  0.450247  1.214251   \n",
       "Algo 1                                     0.130216  1.000000  0.263821   \n",
       "Algo 2                                     0.447096  0.335883  1.000000   \n",
       "BTC                                        0.272608  0.255356  0.491167   \n",
       "ETH                                        0.529288  0.427720  1.013351   \n",
       "TSLA                                       0.902135  0.397008  1.215094   \n",
       "\n",
       "                                  BTC       ETH      TSLA  \n",
       "SOROS FUND MANAGEMENT LLC    0.008756  0.010095  0.078524  \n",
       "PAULSON & CO.INC.            0.012032  0.012500  0.048392  \n",
       "TIGER GLOBAL MANAGEMENT LLC -0.001017  0.004630  0.073427  \n",
       "BERKSHIRE HATHAWAY INC       0.018359  0.018683  0.150848  \n",
       "Algo 1                       0.004974  0.004366  0.019199  \n",
       "Algo 2                       0.012180  0.013171  0.074812  \n",
       "BTC                          1.000000  0.414169 -0.060961  \n",
       "ETH                          0.790213  1.000000 -0.027556  \n",
       "TSLA                        -0.024553 -0.005817  1.000000  "
      ]
     },
     "execution_count": 181,
     "metadata": {},
     "output_type": "execute_result"
    }
   ],
   "source": [
    "# Calculate and plot Beta\n",
    "variance = combined_returns_df.var()\n",
    "total_covariance = combined_returns_df.cov()\n",
    "combined_returns_df_beta = total_covariance / variance\n",
    "combined_returns_df_beta"
   ]
  },
  {
   "cell_type": "markdown",
   "metadata": {},
   "source": [
    "### Using the daily returns, calculate and visualize the Sharpe ratios using a bar plot"
   ]
  },
  {
   "cell_type": "code",
   "execution_count": 182,
   "metadata": {},
   "outputs": [
    {
     "data": {
      "text/plain": [
       "SOROS FUND MANAGEMENT LLC      0.639720\n",
       "PAULSON & CO.INC.             -0.306225\n",
       "TIGER GLOBAL MANAGEMENT LLC   -0.869102\n",
       "BERKSHIRE HATHAWAY INC         1.256585\n",
       "Algo 1                         1.272799\n",
       "Algo 2                         0.746346\n",
       "BTC                            0.965262\n",
       "ETH                            1.197609\n",
       "TSLA                           0.306965\n",
       "dtype: float64"
      ]
     },
     "execution_count": 182,
     "metadata": {},
     "output_type": "execute_result"
    }
   ],
   "source": [
    "# Calculate Annualized Sharpe Ratios\n",
    "sharpe_ratio = (combined_returns_df.mean()*252) / (combined_returns_df.std() * np.sqrt(252))\n",
    "sharpe_ratio"
   ]
  },
  {
   "cell_type": "code",
   "execution_count": 178,
   "metadata": {},
   "outputs": [
    {
     "data": {
      "text/plain": [
       "<AxesSubplot:>"
      ]
     },
     "execution_count": 178,
     "metadata": {},
     "output_type": "execute_result"
    },
    {
     "data": {
      "image/png": "[encoded data removed]",
      "text/plain": [
       "<Figure size 432x288 with 1 Axes>"
      ]
     },
     "metadata": {
      "needs_background": "light"
     },
     "output_type": "display_data"
    }
   ],
   "source": [
    "# Visualize the sharpe ratios as a bar plot\n",
    "sharpe_ratio.plot.bar()"
   ]
  },
  {
   "cell_type": "markdown",
   "metadata": {},
   "source": [
    "### How does your portfolio do?\n",
    "\n",
    "Write your answer here!"
   ]
  },
  {
   "cell_type": "code",
   "execution_count": null,
   "metadata": {},
   "outputs": [],
   "source": [
    "# BTC, ETH, and TSLA had higher sharpe ratios than all others, outside of Algo 1."
   ]
  }
 ],
 "metadata": {
  "file_extension": ".py",
  "kernelspec": {
   "display_name": "Python 3 (ipykernel)",
   "language": "python",
   "name": "python3"
  },
  "language_info": {
   "codemirror_mode": {
    "name": "ipython",
    "version": 3
   },
   "file_extension": ".py",
   "mimetype": "text/x-python",
   "name": "python",
   "nbconvert_exporter": "python",
   "pygments_lexer": "ipython3",
   "version": "3.9.7"
  },
  "mimetype": "text/x-python",
  "name": "python",
  "npconvert_exporter": "python",
  "pygments_lexer": "ipython3",
  "version": 3
 },
 "nbformat": 4,
 "nbformat_minor": 4
}
